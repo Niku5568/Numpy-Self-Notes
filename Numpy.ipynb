{
 "cells": [
  {
   "cell_type": "markdown",
   "id": "3d9367e1-0d68-4797-86af-232cde240a8c",
   "metadata": {},
   "source": [
    "# Method of Numpy"
   ]
  },
  {
   "cell_type": "raw",
   "id": "de6cef55-692e-4c52-b68d-bc64491b5863",
   "metadata": {},
   "source": [
    "--------------------------------------------------------------------------------------------------------------------------------------------------------\n",
    "                                                       Working on array\n",
    "--------------------------------------------------------------------------------------------------------------------------------------------------------\n",
    "                                        \n",
    "1.  np.array([ 1,2,3,4])                               : create array\n",
    "2.  dtype=float/int                                    : used to typecast values\n",
    "3.  np.arange(start,end,gape)                          : work as range function\n",
    "4.  np.reshape (no. of row , no. of columns )          : will create matrix from the given array\n",
    "5.  np.ones(5)                                         : will give number of 1 in form of array [1,1,1,1,1]\n",
    "6.  np.zeros(0)                                        : will give number of 0 in form of array [0,0,0,0,0,0]\n",
    "7.  np.random.randint(1,10)                            : create random number between the given range\n",
    "8.  np.random.random ((2,4))                           : will give random array withing the given range\n",
    "9.  np.random.choice ()                                : choice any random value from the list\n",
    "10. np.linspace(start=0, stop=10, num=5)               : will divide range values equally and give number. Output: [ 0.   2.5  5.   7.5 10. ]\n",
    "11. np.identity                                        : gives identity like (4 x 4) matrix with combination of 0,1\n",
    "12. np.eys                                             : can create any tyoe of matrix of (3 x 4) (7 x 3) with combination of 0,1\n",
    "13. np.shape                                           : will give number of columns and row in the 2d, 3d array\n",
    "14. ndim                                               : give number of dimension array contain\n",
    "15. size                                               : give total number of values inside/contain by matrix\n",
    "16. itemsize                                           : will give how much space or size occuipied in the ram memory\n",
    "17. astype(np.int16)                                   : change types of value like int32 become int16.\n",
    "\n",
    "--------------------------------------------------------------------------------------------------------------------------------------------------------\n",
    "                                                     Math operation:\n",
    "--------------------------------------------------------------------------------------------------------------------------------------------------------    \n",
    "1. np.sqrt                                            : will give sqrt of value or matrix\n",
    "2. np.product                                         : used to multiply numbers\n",
    "3. np.mean                                            : give average of the value\n",
    "4. np.median                                          : middle value in the dataset/list\n",
    "5. np.std                                             : give standard deviation of value or dataset\n",
    "6. np.var                                             : give variance of the value or dataset\n",
    "7. np.round                                           : will round off float values.\n",
    "8. np.floor                                           : floor backword round off\n",
    "9. np.ceil                                            : ceil forword round off\n",
    "\n",
    "--------------------------------------------------------------------------------------------------------------------------------------------------------\n",
    "                                                       Matrix operation:\n",
    "--------------------------------------------------------------------------------------------------------------------------------------------------------   \n",
    "1. np.dot                                             : Computes the sum of the products of corresponding elements in two vectors.\n",
    "2. np.nditer(variable name)                           : will convert any array into 1d array\n",
    "3. Ravel                                              : will convert any of 2d, 3d, 4d, 5d,6d..... array in 1D array\n",
    "4. Transpose/ T                                       : Transpose any matrix\n",
    "5. vstack                                             : merge 2 matrix vertically\n",
    "6. hstack                                             : merge 2 matrix horizontally\n",
    "7. np.vsplit                                          : split matrix vertically variable,number of division/how much split you want\n",
    "8. np.hsplit                                          : split matrix horizontally (should be equally divide) variable,number of division/how much split you want\n",
    "\n",
    "--------------------------------------------------------------------------------------------------------------------------------------------------------\n",
    "                                                          indexing \n",
    "--------------------------------------------------------------------------------------------------------------------------------------------------------\n",
    "1. advance indexing                                   : a[row start, row end, row gape , col start, col end, col gape ]          \n",
    "2. fancy indexing                                     : a[[0,2,3]]\n",
    "3. boolean indexing                                   : a[a>50]\n",
    "4. Brodcasting                                        : dimension of array should be equal\n",
    "\n",
    "--------------------------------------------------------------------------------------------------------------------------------------------------------\n",
    "                                                working on missing values \n",
    "                                            alway give boolean value in return\n",
    "--------------------------------------------------------------------------------------------------------------------------------------------------------\n",
    "1. np.isnan(a)                                        :  will give True False value, a[ ~np.isnan(a) ] (~ work as bitwise not operator)\n",
    "\n",
    "--------------------------------------------------------------------------------------------------------------------------------------------------------\n",
    "                                                       Nummpy Methods \n",
    "--------------------------------------------------------------------------------------------------------------------------------------------------------\n",
    "1. np.sort                                            : return sorted copy of a array like 0 - 10, np.sort(b,axis=0) axis=0 is used to sort by columns \n",
    "2. np.append                                          : add new value into data/array (name of array, values append into last)\n",
    "3. numpy.concatenate                                  : functions concatenate a sequance of arrays along an existing axis. axis=0 for columns wise\n",
    "4. np.unique                                          : Returns the sorted unique elements of an array. give non repeated values from list/array\n",
    "5. np.nunique                                         : Returns the number of unique elements in an array/ remove all duplicate and return values.\n",
    "6. np.expand_dims                                     : convert a 1D array to a 2D,3D array\n",
    "7. np.where                                           : give index number of dataset and you can also replace it by accordingly, np.where(a>50,0,a).\n",
    "8. np.argmax                                          : will give max number of dataset or nearest value  axis =1 for col\n",
    "9. np.argmin                                          : will give min number of dataset (np.argmin(b)) or nearest value.(arr[abs(arr-near).argmin()])\n",
    "10. numpy.cumsum                                      : function is used do sum of value like fibanccai, for column sum = axis=1.\n",
    "11. numpy.cumprod                                     : function is used when we want to compute the cumulative multiply\n",
    "12. np.percentile                                     : function used to compute the nth percentile of the given data (array elements).\n",
    "13. np.histogram(array name, bins=[frequency range])  : will count the numbers under the frequency and give the histogram number for plot.\n",
    "14. np.corrcoef                                       : Return Pearson product-moment correlation coefficients.\n",
    "15. np.isin                                           : will check values are present in dataset or matirx, array.\n",
    "16. The numpy.flip                                    : function reverses the order of array elements along the specified axis\n",
    "17. np.put(array name, [index numbers, 2nd ind number], [new value, 2nd new value])\n",
    "                                                      : replaces specific elements of an array with given values \n",
    "18. np.delete                                         : delete single or multiple numbers on the basis of the index number of the values.\n",
    "19. numpy.clip                                        : function is used to Clip (limit) the values in an array\n",
    "\n",
    "\n",
    "--------------------------------------------------------------------------------------------------------------------------------------------------------\n",
    "                                                       Set Functions \n",
    "--------------------------------------------------------------------------------------------------------------------------------------------------------\n",
    "\n",
    "1. np.union1d(a, b)                                   : Returns the union of two arrays, i.e., all unique elements from both arrays.\n",
    "\n",
    "Example: np.union1d([1, 2, 3], [3, 4, 5]) returns [1, 2, 3, 4, 5].\n",
    "\n",
    "2. np.intersect1d(a, b)                               : Returns the intersection of two arrays, i.e., common unique elements from both arrays.\n",
    "\n",
    "Example: np.intersect1d([1, 2, 3], [3, 4, 5]) returns [3].\n",
    "\n",
    "3. np.setdiff1d(a, b)                                 : Returns the set difference of two arrays, i.e., unique elements in a that are not in b.\n",
    "\n",
    "Example: np.setdiff1d([1, 2, 3], [3, 4, 5]) returns [1, 2].\n",
    "\n",
    "4. np.setxor1d(a, b)                                   : Returns the symmetric difference of two arrays, i.e., unique elements that are in exactly one of the arrays.\n",
    "\n",
    "Example: np.setxor1d([1, 2, 3], [3, 4, 5]) returns [1, 2, 4, 5].\n",
    "\n",
    "5. np.in1d(a, b)                                       : Returns a boolean array indicating whether each element in a is also in b.\n",
    "\n",
    "Example: np.in1d([1, 2, 3], [3, 4, 5]) returns [False, False, True].\n"
   ]
  },
  {
   "cell_type": "markdown",
   "id": "c7582fd4-2dd2-4170-b338-c79b069d31ce",
   "metadata": {},
   "source": [
    "# Create Numpy"
   ]
  },
  {
   "cell_type": "code",
   "execution_count": 2,
   "id": "c8de1d68-c982-4c76-8308-04e3671d0ee4",
   "metadata": {},
   "outputs": [],
   "source": [
    "import numpy as np"
   ]
  },
  {
   "cell_type": "code",
   "execution_count": 3,
   "id": "961269ee-89b6-430d-b5aa-8b8466fc8c9c",
   "metadata": {},
   "outputs": [
    {
     "name": "stdout",
     "output_type": "stream",
     "text": [
      "[1 2 3 4]\n",
      "<class 'numpy.ndarray'>\n",
      "\n",
      "[[1 2 3]\n",
      " [4 5 6]]\n",
      "\n",
      "[[1 2 3]\n",
      " [4 5 6]\n",
      " [7 8 9]]\n",
      "\n",
      "[[ 1  2  3]\n",
      " [ 4  5  6]\n",
      " [ 7  8  9]\n",
      " [10 11 12]]\n",
      "\n",
      "[[[[ 0  1]\n",
      "   [ 2  3]]\n",
      "\n",
      "  [[ 4  5]\n",
      "   [ 6  7]]]\n",
      "\n",
      "\n",
      " [[[ 8  9]\n",
      "   [10 11]]\n",
      "\n",
      "  [[12 13]\n",
      "   [14 15]]]]\n"
     ]
    }
   ],
   "source": [
    "#1d array/vector\n",
    "a=np.array([1,2,3,4])\n",
    "print(a)\n",
    "print(type(a)) # type of array\n",
    "print()\n",
    "a=np.array([[1,2,3],[4,5,6]])\n",
    "print(a)\n",
    "print()\n",
    "a=np.array([[1,2,3],[4,5,6],[7,8,9]])\n",
    "print(a)\n",
    "print()\n",
    "a=np.array([[1,2,3],[4,5,6],[7,8,9],[10,11,12]])\n",
    "print(a)\n",
    "print()\n",
    "\n",
    "a=np.arange(16).reshape(2,2,2,2)\n",
    "print(a)"
   ]
  },
  {
   "cell_type": "markdown",
   "id": "77b03248-8225-41c3-aa8d-00f42e0bc828",
   "metadata": {},
   "source": [
    "# dtype : \n",
    "\n",
    "- syntax of using dtype:    \n",
    "**np.array([1,2,3],dtype=float)**\n",
    "\n",
    "used for typecasting to convert array into float, complex, bool(True/False),string"
   ]
  },
  {
   "cell_type": "code",
   "execution_count": 4,
   "id": "dde39b1a-f86a-4ea9-a76d-c6e476095a84",
   "metadata": {},
   "outputs": [
    {
     "name": "stdout",
     "output_type": "stream",
     "text": [
      "[1. 2. 3. 4.]\n",
      "\n",
      "[1. 2. 3. 4. 5.] <class 'numpy.ndarray'>\n"
     ]
    }
   ],
   "source": [
    "# convert list into float\n",
    "b=np.array([1,2,3,4],dtype=float)\n",
    "print(b)\n",
    "print()\n",
    "l=[1,2,3,4,5]\n",
    "c=np.array(l,dtype=float)\n",
    "print(c,type(c))"
   ]
  },
  {
   "cell_type": "code",
   "execution_count": 5,
   "id": "44bcfce4-8299-4bff-9e9f-e668dabeced4",
   "metadata": {},
   "outputs": [
    {
     "name": "stdout",
     "output_type": "stream",
     "text": [
      "[1.+0.j 2.+0.j 3.+0.j 4.+0.j]\n",
      "\n",
      "[1.+0.j 2.+0.j 3.+0.j 4.+0.j 5.+0.j] <class 'numpy.ndarray'>\n"
     ]
    }
   ],
   "source": [
    "# convert list into complex\n",
    "b=np.array([1,2,3,4],dtype=complex)\n",
    "print(b)\n",
    "print()\n",
    "l=[1,2,3,4,5]\n",
    "k=np.array(l,dtype=complex)\n",
    "print(k,type(k))"
   ]
  },
  {
   "cell_type": "code",
   "execution_count": 6,
   "id": "c3f00510-bc15-4b86-8b7b-5d5b116d11ee",
   "metadata": {},
   "outputs": [
    {
     "name": "stdout",
     "output_type": "stream",
     "text": [
      "[False  True  True  True  True]\n",
      "\n",
      "[False  True  True  True  True  True] <class 'numpy.ndarray'>\n"
     ]
    }
   ],
   "source": [
    "# convert list into boolean\n",
    "b=np.array([0,1,2,3,4],dtype=bool)\n",
    "print(b)\n",
    "print()\n",
    "l=[0,1,2,3,4,5]\n",
    "k=np.array(l,dtype=bool)\n",
    "print(k,type(k))"
   ]
  },
  {
   "cell_type": "code",
   "execution_count": 7,
   "id": "132ddf4c-33b0-4833-9058-a40a31280299",
   "metadata": {},
   "outputs": [
    {
     "name": "stdout",
     "output_type": "stream",
     "text": [
      "['1' '2' '3' '4']\n",
      "\n",
      "['1' '2' '3' '4' '5'] <class 'numpy.ndarray'>\n"
     ]
    }
   ],
   "source": [
    "# convert list into String\n",
    "b=np.array([1,2,3,4],dtype=str)\n",
    "print(b)\n",
    "print()\n",
    "l=[1,2,3,4,5]\n",
    "k=np.array(l,dtype=str)\n",
    "print(k,type(k))"
   ]
  },
  {
   "cell_type": "markdown",
   "id": "81252f4e-2dc4-4d03-9d1f-a1aa3959a6cc",
   "metadata": {},
   "source": [
    "# np.arange:\n",
    "\n",
    "work as range function "
   ]
  },
  {
   "cell_type": "code",
   "execution_count": 8,
   "id": "5b8ba64d-d743-4082-b8ff-b633108d5779",
   "metadata": {},
   "outputs": [
    {
     "name": "stdout",
     "output_type": "stream",
     "text": [
      "List [1, 2, 3, 4, 5, 6, 7, 8, 9, 10]\n"
     ]
    }
   ],
   "source": [
    "# list\n",
    "print(\"List\",list(range(1,11)))"
   ]
  },
  {
   "cell_type": "code",
   "execution_count": 9,
   "id": "d4d02da5-b85a-454b-befa-ce77935fe649",
   "metadata": {},
   "outputs": [
    {
     "name": "stdout",
     "output_type": "stream",
     "text": [
      "\n",
      "np.arange [ 1  2  3  4  5  6  7  8  9 10]\n",
      "\n",
      "np.arange [1 3 5 7 9]\n"
     ]
    }
   ],
   "source": [
    "# arange\n",
    "print(\"\\nnp.arange\",np.arange(1,11))\n",
    "\n",
    "#start, end, gape\n",
    "\n",
    "print(\"\\nnp.arange\",np.arange(1,11,2))"
   ]
  },
  {
   "cell_type": "markdown",
   "id": "0e168e6c-b961-417e-8a8f-808936ad70c6",
   "metadata": {},
   "source": [
    "# np.reshape\n",
    "\n",
    "convert array into matrix or make another list like matrix "
   ]
  },
  {
   "cell_type": "code",
   "execution_count": 10,
   "id": "05d3f43b-f452-43be-a796-8418c01969de",
   "metadata": {},
   "outputs": [
    {
     "data": {
      "text/plain": [
       "array([[ 1,  2,  3,  4,  5],\n",
       "       [ 6,  7,  8,  9, 10]])"
      ]
     },
     "execution_count": 10,
     "metadata": {},
     "output_type": "execute_result"
    }
   ],
   "source": [
    "np.arange(1,11).reshape(2,5)"
   ]
  },
  {
   "cell_type": "code",
   "execution_count": 11,
   "id": "78405a29-2bb3-4952-a837-728a21a330ae",
   "metadata": {},
   "outputs": [
    {
     "data": {
      "text/plain": [
       "array([[ 1,  2],\n",
       "       [ 3,  4],\n",
       "       [ 5,  6],\n",
       "       [ 7,  8],\n",
       "       [ 9, 10]])"
      ]
     },
     "execution_count": 11,
     "metadata": {},
     "output_type": "execute_result"
    }
   ],
   "source": [
    "np.arange(1,11).reshape(5,2)"
   ]
  },
  {
   "cell_type": "code",
   "execution_count": 12,
   "id": "b14ffd32-5a79-441e-90cb-32b5a83672e4",
   "metadata": {},
   "outputs": [
    {
     "data": {
      "text/plain": [
       "array([[ 1,  2,  3,  4,  5,  6],\n",
       "       [ 7,  8,  9, 10, 11, 12],\n",
       "       [13, 14, 15, 16, 17, 18]])"
      ]
     },
     "execution_count": 12,
     "metadata": {},
     "output_type": "execute_result"
    }
   ],
   "source": [
    "np.arange(1,19).reshape(3,6)"
   ]
  },
  {
   "cell_type": "markdown",
   "id": "96655a24-17c7-4e20-8f79-2f9e04decd1e",
   "metadata": {},
   "source": [
    "# np.ones"
   ]
  },
  {
   "cell_type": "code",
   "execution_count": 13,
   "id": "efbc27f9-018d-4dbd-8ae9-806b7163a055",
   "metadata": {},
   "outputs": [
    {
     "data": {
      "text/plain": [
       "array([1., 1., 1., 1., 1.])"
      ]
     },
     "execution_count": 13,
     "metadata": {},
     "output_type": "execute_result"
    }
   ],
   "source": [
    "np.ones(5)"
   ]
  },
  {
   "cell_type": "code",
   "execution_count": 14,
   "id": "291c8bb5-9eaa-4999-b835-09db09401620",
   "metadata": {},
   "outputs": [
    {
     "data": {
      "text/plain": [
       "array([[1., 1., 1., 1.],\n",
       "       [1., 1., 1., 1.],\n",
       "       [1., 1., 1., 1.],\n",
       "       [1., 1., 1., 1.],\n",
       "       [1., 1., 1., 1.]])"
      ]
     },
     "execution_count": 14,
     "metadata": {},
     "output_type": "execute_result"
    }
   ],
   "source": [
    "np.ones((5,4))"
   ]
  },
  {
   "cell_type": "markdown",
   "id": "68eae8a3-4187-4053-ad07-fea7dc615a05",
   "metadata": {},
   "source": [
    "# np.zeros"
   ]
  },
  {
   "cell_type": "code",
   "execution_count": 15,
   "id": "097417c4-2a24-4b30-8759-b7f91f1fc149",
   "metadata": {},
   "outputs": [
    {
     "data": {
      "text/plain": [
       "array([0., 0., 0., 0., 0.])"
      ]
     },
     "execution_count": 15,
     "metadata": {},
     "output_type": "execute_result"
    }
   ],
   "source": [
    "np.zeros(5)"
   ]
  },
  {
   "cell_type": "code",
   "execution_count": 16,
   "id": "6a5a6917-8b6a-4853-a26f-9bc6685b5ac4",
   "metadata": {},
   "outputs": [
    {
     "data": {
      "text/plain": [
       "array([[0., 0., 0., 0.],\n",
       "       [0., 0., 0., 0.],\n",
       "       [0., 0., 0., 0.]])"
      ]
     },
     "execution_count": 16,
     "metadata": {},
     "output_type": "execute_result"
    }
   ],
   "source": [
    "np.zeros((3,4))"
   ]
  },
  {
   "cell_type": "code",
   "execution_count": 17,
   "id": "c0672d33-cdfd-449d-9efc-07f8d316c6e6",
   "metadata": {},
   "outputs": [
    {
     "data": {
      "text/plain": [
       "array([[1., 1., 1., 1., 1.],\n",
       "       [1., 1., 1., 1., 1.],\n",
       "       [1., 1., 1., 1., 1.],\n",
       "       [1., 0., 0., 1., 1.],\n",
       "       [1., 0., 0., 1., 1.],\n",
       "       [1., 0., 0., 1., 1.],\n",
       "       [1., 0., 0., 1., 1.],\n",
       "       [1., 1., 1., 1., 1.],\n",
       "       [1., 1., 1., 1., 1.]])"
      ]
     },
     "execution_count": 17,
     "metadata": {},
     "output_type": "execute_result"
    }
   ],
   "source": [
    "a=np.ones([9,5])\n",
    "b=np.zeros([4,2])\n",
    "a[3:7,1:3]=b\n",
    "a"
   ]
  },
  {
   "cell_type": "markdown",
   "id": "09aa06cf-b8ee-4f55-a768-5dc63cdf4874",
   "metadata": {},
   "source": [
    "# np.random.randint\n",
    "create random number between the given range"
   ]
  },
  {
   "cell_type": "code",
   "execution_count": 18,
   "id": "ba36d21d-f6ec-425a-9dc8-57a19946f0fd",
   "metadata": {},
   "outputs": [
    {
     "data": {
      "text/plain": [
       "6"
      ]
     },
     "execution_count": 18,
     "metadata": {},
     "output_type": "execute_result"
    }
   ],
   "source": [
    "np.random.randint(1,10)"
   ]
  },
  {
   "cell_type": "markdown",
   "id": "5e46f165-28bd-49f7-825b-dc664d05ae64",
   "metadata": {},
   "source": [
    "# np.random.random\n",
    "will give random array withing the given range"
   ]
  },
  {
   "cell_type": "code",
   "execution_count": 19,
   "id": "54d22258-d199-4ce3-b27e-b54446e796e9",
   "metadata": {},
   "outputs": [
    {
     "data": {
      "text/plain": [
       "array([[0.20906969, 0.45025233, 0.37731379, 0.10670567],\n",
       "       [0.19771963, 0.09045631, 0.98270743, 0.5905607 ]])"
      ]
     },
     "execution_count": 19,
     "metadata": {},
     "output_type": "execute_result"
    }
   ],
   "source": [
    "np.random.random((2,4))"
   ]
  },
  {
   "cell_type": "code",
   "execution_count": 20,
   "id": "3df442ca-889d-4902-aea2-a430654beb54",
   "metadata": {},
   "outputs": [
    {
     "data": {
      "text/plain": [
       "749"
      ]
     },
     "execution_count": 20,
     "metadata": {},
     "output_type": "execute_result"
    }
   ],
   "source": [
    "np.random.randint(100,1000)"
   ]
  },
  {
   "cell_type": "markdown",
   "id": "3dd3d65d-dc7d-4d2f-9336-d5af1a1a64f2",
   "metadata": {},
   "source": [
    "# np.random.choice\n",
    "\n",
    "choice any random value from the list"
   ]
  },
  {
   "cell_type": "code",
   "execution_count": 21,
   "id": "e4427e10-d1e0-4051-94b5-4fba43a7f709",
   "metadata": {},
   "outputs": [
    {
     "data": {
      "text/plain": [
       "'w'"
      ]
     },
     "execution_count": 21,
     "metadata": {},
     "output_type": "execute_result"
    }
   ],
   "source": [
    "l=[\"a\",\"b\",\"c\",\"d\",\"e\",\"f\",\"g\",\"h\",\"i\",\"j\",\"k\",\"l\",\"m\",\"n\",\"o\",\"p\",\"q\",\"r\",\"s\",\"t\",\"u\",\"v\",\"w\",\"x\",\"y\",\"z\"]\n",
    "np.random.choice(l)"
   ]
  },
  {
   "cell_type": "markdown",
   "id": "6214f569-ae35-4369-9425-2bd9c241e91d",
   "metadata": {},
   "source": [
    "# np.linspace\n",
    "\n",
    "The syntax is: np.linspace(start=0, stop=10, num=5)    \n",
    "\n",
    "\n",
    "**Generate 5 numbers between 0 and 10**     \n",
    "numbers = np.linspace(0, 10, 5)     \n",
    "print(numbers)    \n",
    "Output: [ 0.   2.5  5.   7.5 10. ]"
   ]
  },
  {
   "cell_type": "code",
   "execution_count": 22,
   "id": "fa9737b6-26dd-47cd-8fbd-476a3cf04c14",
   "metadata": {},
   "outputs": [
    {
     "data": {
      "text/plain": [
       "array([-2. ,  1.5,  5. ,  8.5, 12. ])"
      ]
     },
     "execution_count": 22,
     "metadata": {},
     "output_type": "execute_result"
    }
   ],
   "source": [
    "# lower range, upper range, number of item that you want\n",
    "np.linspace(-2,12,5)"
   ]
  },
  {
   "cell_type": "code",
   "execution_count": 23,
   "id": "11f7de04-0997-424b-a98b-5bc1fcf864d9",
   "metadata": {},
   "outputs": [
    {
     "data": {
      "text/plain": [
       "array([-2,  1,  5,  8, 12])"
      ]
     },
     "execution_count": 23,
     "metadata": {},
     "output_type": "execute_result"
    }
   ],
   "source": [
    "np.linspace(-2,12,5,dtype=int)"
   ]
  },
  {
   "cell_type": "markdown",
   "id": "f8020990-1440-4b0b-a676-13917ffbab10",
   "metadata": {},
   "source": [
    "# np.identity\n",
    "\n",
    "print(np.identity(3))  # 3x3 identity matrix\n",
    "\n",
    "\n",
    "np.identity:\n",
    "\n",
    "- Creates an identity matrix with the specified number of rows (and equal number of columns).   \n",
    "- Does not allow specifying a diagonal offset.   \n",
    "- Syntax: np.identity(n, dtype=None)  "
   ]
  },
  {
   "cell_type": "code",
   "execution_count": 31,
   "id": "9c464a78-9a18-4a7e-8485-0c5aa92ac01e",
   "metadata": {},
   "outputs": [
    {
     "data": {
      "text/plain": [
       "array([[1., 0., 0., 0., 0.],\n",
       "       [0., 1., 0., 0., 0.],\n",
       "       [0., 0., 1., 0., 0.],\n",
       "       [0., 0., 0., 1., 0.],\n",
       "       [0., 0., 0., 0., 1.]])"
      ]
     },
     "execution_count": 31,
     "metadata": {},
     "output_type": "execute_result"
    }
   ],
   "source": [
    "np.identity(5)"
   ]
  },
  {
   "cell_type": "markdown",
   "id": "4081a9da-dc12-4b00-9204-6290585fcc54",
   "metadata": {},
   "source": [
    "# np.eye\n",
    "\n",
    "np.eye:\n",
    "\n",
    "- Creates a 2D array with ones on the diagonal and zeros elsewhere.\n",
    "- Allows you to specify the number of rows and columns, as well as the diagonal offset.\n",
    "- Syntax: np.eye(N, M=None, k=0, dtype=<class 'float'>)\n",
    "\n",
    "print(np.eye(3))  # 3x3 identity matrix   \n",
    "print(np.eye(3, 4))  # 3x4 matrix with ones on the diagonal   \n",
    "print(np.eye(3, k=1))  # 3x3 matrix with ones on the superdiagonal   "
   ]
  },
  {
   "cell_type": "code",
   "execution_count": 32,
   "id": "003d51d7-472c-4030-aa28-23dc00e3e8a2",
   "metadata": {},
   "outputs": [
    {
     "name": "stdout",
     "output_type": "stream",
     "text": [
      "[[1. 0. 0. 0.]\n",
      " [0. 1. 0. 0.]\n",
      " [0. 0. 1. 0.]\n",
      " [0. 0. 0. 1.]]\n",
      "\n",
      "[[1. 0. 0.]\n",
      " [0. 1. 0.]\n",
      " [0. 0. 1.]\n",
      " [0. 0. 0.]\n",
      " [0. 0. 0.]\n",
      " [0. 0. 0.]\n",
      " [0. 0. 0.]]\n"
     ]
    }
   ],
   "source": [
    "print(np.eye(4))\n",
    "print()\n",
    "print(np.eye(7,3))"
   ]
  },
  {
   "cell_type": "code",
   "execution_count": null,
   "id": "63780905-10a5-4744-9a9c-8a2eb2c7e342",
   "metadata": {},
   "outputs": [],
   "source": []
  },
  {
   "cell_type": "markdown",
   "id": "10fc56a8-4d2d-419d-b1a5-c1d2517cb360",
   "metadata": {},
   "source": [
    "# array attributes"
   ]
  },
  {
   "cell_type": "code",
   "execution_count": 33,
   "id": "bae3fc9a-ee66-46e8-ae2a-0aa7031bacad",
   "metadata": {},
   "outputs": [
    {
     "name": "stdout",
     "output_type": "stream",
     "text": [
      "[0 1 2 3 4 5 6 7 8 9]\n",
      "\n",
      "[[ 0.  1.  2.  3.]\n",
      " [ 4.  5.  6.  7.]\n",
      " [ 8.  9. 10. 11.]]\n",
      "\n",
      "[[[0 1]\n",
      "  [2 3]]\n",
      "\n",
      " [[4 5]\n",
      "  [6 7]]]\n"
     ]
    }
   ],
   "source": [
    "a1= np.arange(10)\n",
    "print(a1)\n",
    "print()\n",
    "a2=np.arange(12,dtype=float).reshape(3,4)\n",
    "print(a2)\n",
    "print()\n",
    "a3=np.arange(8).reshape(2,2,2)\n",
    "print(a3)"
   ]
  },
  {
   "cell_type": "markdown",
   "id": "769f74c5-4a95-4ee0-8762-9dfacb7e312a",
   "metadata": {},
   "source": [
    "# np.shape\n",
    "\n",
    "will give number of columns and row in the 2d, 3d array"
   ]
  },
  {
   "cell_type": "code",
   "execution_count": 34,
   "id": "33c1c66d-7023-4354-986c-0511fdeb9f7d",
   "metadata": {},
   "outputs": [
    {
     "name": "stdout",
     "output_type": "stream",
     "text": [
      "[[[[ 0  1]\n",
      "   [ 2  3]]\n",
      "\n",
      "  [[ 4  5]\n",
      "   [ 6  7]]]\n",
      "\n",
      "\n",
      " [[[ 8  9]\n",
      "   [10 11]]\n",
      "\n",
      "  [[12 13]\n",
      "   [14 15]]]]\n",
      "(2, 2, 2, 2)\n"
     ]
    }
   ],
   "source": [
    "a=np.arange(16).reshape(2,2,2,2)\n",
    "print(a)\n",
    "print(np.shape(a))"
   ]
  },
  {
   "cell_type": "code",
   "execution_count": 35,
   "id": "f9e5f29d-2a2d-4145-9cf0-831e477c52ad",
   "metadata": {},
   "outputs": [
    {
     "name": "stdout",
     "output_type": "stream",
     "text": [
      "(10,) :\n",
      "\n",
      " [0 1 2 3 4 5 6 7 8 9] \n",
      "\n",
      "(3, 4) :\n",
      "\n",
      " [[ 0.  1.  2.  3.]\n",
      " [ 4.  5.  6.  7.]\n",
      " [ 8.  9. 10. 11.]] \n",
      "\n",
      "(2, 2, 2) :\n",
      "\n",
      " [[[0 1]\n",
      "  [2 3]]\n",
      "\n",
      " [[4 5]\n",
      "  [6 7]]] \n",
      "\n"
     ]
    }
   ],
   "source": [
    "print(a1.shape,\":\\n\\n\",a1,\"\\n\")\n",
    "\n",
    "print(a2.shape,\":\\n\\n\",a2,\"\\n\")\n",
    "\n",
    "print(a3.shape,\":\\n\\n\",a3,\"\\n\")"
   ]
  },
  {
   "cell_type": "raw",
   "id": "2d418364-7d4b-4b4c-af12-63b686c20793",
   "metadata": {},
   "source": []
  },
  {
   "cell_type": "markdown",
   "id": "e246393c-b8a5-410d-9e02-b1aa01e9f191",
   "metadata": {},
   "source": [
    "# ndim (number of dimension)"
   ]
  },
  {
   "cell_type": "code",
   "execution_count": 36,
   "id": "e4e818dd-81b5-4c08-ab28-433bfd71cb61",
   "metadata": {},
   "outputs": [
    {
     "name": "stdout",
     "output_type": "stream",
     "text": [
      "1 d array\n",
      "2 d array\n",
      "3 d array\n"
     ]
    }
   ],
   "source": [
    "# give no of dimension array contain by values\n",
    "print(a1.ndim,\"d array\")\n",
    "print(a2.ndim,\"d array\")\n",
    "print(a3.ndim,\"d array\")"
   ]
  },
  {
   "cell_type": "code",
   "execution_count": null,
   "id": "39a88021-1ddb-4141-93f4-584073aa615e",
   "metadata": {},
   "outputs": [],
   "source": []
  },
  {
   "cell_type": "markdown",
   "id": "1238c7b8-7aed-439e-811d-2c6647071fd1",
   "metadata": {},
   "source": [
    "# size\n",
    "will give total number of items inside the array"
   ]
  },
  {
   "cell_type": "code",
   "execution_count": 37,
   "id": "f7b59976-23b4-4bc4-85ad-58edc0c22bde",
   "metadata": {},
   "outputs": [
    {
     "name": "stdout",
     "output_type": "stream",
     "text": [
      "10\n",
      "12\n",
      "8\n"
     ]
    }
   ],
   "source": [
    "print(a1.size)\n",
    "print(a2.size)\n",
    "print(a3.size)"
   ]
  },
  {
   "cell_type": "markdown",
   "id": "8a902f47-6c45-4b3c-a3a5-575797dae2a6",
   "metadata": {},
   "source": [
    "# itemsize\n",
    "\n",
    "will give how much space or size occuipied in the ram memory"
   ]
  },
  {
   "cell_type": "code",
   "execution_count": 38,
   "id": "b1387b98-4ffa-4560-838e-737cb31e6382",
   "metadata": {},
   "outputs": [
    {
     "name": "stdout",
     "output_type": "stream",
     "text": [
      "4 bit\n",
      "8 bit\n",
      "4 bit\n"
     ]
    }
   ],
   "source": [
    "print(a1.itemsize,\"bit\")\n",
    "print(a2.itemsize,\"bit\")\n",
    "print(a3.itemsize,\"bit\")"
   ]
  },
  {
   "cell_type": "markdown",
   "id": "d6764ab4-2452-4fbc-95d8-49d34e0c5668",
   "metadata": {},
   "source": [
    "# dtype\n",
    "will help you to know what is data type of the value"
   ]
  },
  {
   "cell_type": "code",
   "execution_count": 268,
   "id": "6b2f5d72-6986-4db5-baad-aba211fe9f1a",
   "metadata": {},
   "outputs": [
    {
     "name": "stdout",
     "output_type": "stream",
     "text": [
      "int32\n",
      "float64\n",
      "int32\n"
     ]
    }
   ],
   "source": [
    "print(a1.dtype)\n",
    "print(a2.dtype)\n",
    "print(a3.dtype)"
   ]
  },
  {
   "cell_type": "markdown",
   "id": "026eea00-9a32-41f4-b14f-d17c863781f6",
   "metadata": {},
   "source": [
    "# changing data type"
   ]
  },
  {
   "cell_type": "code",
   "execution_count": 269,
   "id": "a55344a5-bad1-4e9e-a057-b820e0d3d7a3",
   "metadata": {},
   "outputs": [
    {
     "name": "stdout",
     "output_type": "stream",
     "text": [
      "int32\n",
      "[[[0 1]\n",
      "  [2 3]]\n",
      "\n",
      " [[4 5]\n",
      "  [6 7]]]\n"
     ]
    },
    {
     "data": {
      "text/plain": [
       "dtype('int32')"
      ]
     },
     "execution_count": 269,
     "metadata": {},
     "output_type": "execute_result"
    }
   ],
   "source": [
    "print(a3.dtype)\n",
    "# print()\n",
    "print(a3.astype(np.int32))\n",
    "a3.dtype"
   ]
  },
  {
   "cell_type": "markdown",
   "id": "049d2390-2729-489d-8b43-808b6056e0c0",
   "metadata": {},
   "source": [
    "# array operation"
   ]
  },
  {
   "cell_type": "code",
   "execution_count": 270,
   "id": "afe5460e-f7ad-4146-b915-0e1bb00522f9",
   "metadata": {},
   "outputs": [
    {
     "name": "stdout",
     "output_type": "stream",
     "text": [
      "[[ 0  1  2  3]\n",
      " [ 4  5  6  7]\n",
      " [ 8  9 10 11]] \n",
      "\n",
      "[[12 13 14 15]\n",
      " [16 17 18 19]\n",
      " [20 21 22 23]]\n"
     ]
    }
   ],
   "source": [
    "s1=np.arange(12).reshape(3,4)\n",
    "s2=np.arange(12,24).reshape(3,4)\n",
    "print(s1,\"\\n\")\n",
    "print(s2)"
   ]
  },
  {
   "cell_type": "markdown",
   "id": "1d27d388-bf6a-4610-94b8-a8b503db4fcf",
   "metadata": {},
   "source": [
    "# scaler opration\n",
    "># artihmatic"
   ]
  },
  {
   "cell_type": "code",
   "execution_count": 271,
   "id": "d4aa87f1-d8e7-470a-b85d-92579a5e282f",
   "metadata": {},
   "outputs": [
    {
     "name": "stdout",
     "output_type": "stream",
     "text": [
      "multiply by 2\n",
      "[[ 0  2  4  6]\n",
      " [ 8 10 12 14]\n",
      " [16 18 20 22]] \n",
      "\n",
      "Addition of 3\n",
      "[[ 3  4  5  6]\n",
      " [ 7  8  9 10]\n",
      " [11 12 13 14]] \n",
      "\n",
      "division by 2\n",
      "[[0.  0.5 1.  1.5]\n",
      " [2.  2.5 3.  3.5]\n",
      " [4.  4.5 5.  5.5]] \n",
      "\n",
      "reminder\n",
      "[[0 1 0 1]\n",
      " [0 1 0 1]\n",
      " [0 1 0 1]] \n",
      "\n",
      "subtraction of 4\n",
      "[[-4 -3 -2 -1]\n",
      " [ 0  1  2  3]\n",
      " [ 4  5  6  7]] \n",
      "\n",
      "power/square\n",
      "[[  0   1   4   9]\n",
      " [ 16  25  36  49]\n",
      " [ 64  81 100 121]] \n",
      "\n",
      "cube\n",
      "[[   0    1    8   27]\n",
      " [  64  125  216  343]\n",
      " [ 512  729 1000 1331]] \n",
      "\n",
      "true division\n",
      "[[0 0 1 1]\n",
      " [2 2 3 3]\n",
      " [4 4 5 5]] \n",
      "\n"
     ]
    }
   ],
   "source": [
    "print(\"multiply by 2\")\n",
    "print(s1*2,\"\\n\")\n",
    "print(\"Addition of 3\")\n",
    "print(s1+3,\"\\n\")\n",
    "print(\"division by 2\")\n",
    "print(s1/2,\"\\n\")\n",
    "print(\"reminder\")\n",
    "print(s1%2,\"\\n\")\n",
    "print(\"subtraction of 4\")\n",
    "print(s1-4,\"\\n\")\n",
    "print(\"power/square\")\n",
    "print(s1**2,\"\\n\")\n",
    "print(\"cube\")\n",
    "print(s1**3,\"\\n\")\n",
    "print(\"true division\")\n",
    "print(s1//2,\"\\n\")\n",
    "\n"
   ]
  },
  {
   "cell_type": "markdown",
   "id": "af10ee51-37cb-4353-821b-24df218cb7dd",
   "metadata": {},
   "source": [
    "># relational\\comarision"
   ]
  },
  {
   "cell_type": "code",
   "execution_count": 272,
   "id": "d53ecbe7-c85f-4628-86c3-0c744ecd5ad3",
   "metadata": {},
   "outputs": [
    {
     "name": "stdout",
     "output_type": "stream",
     "text": [
      "[[False False False  True]\n",
      " [ True  True  True  True]\n",
      " [ True  True  True  True]] \n",
      "\n",
      "[[ True  True False False]\n",
      " [False False False False]\n",
      " [False False False False]] \n",
      "\n",
      "[[False False False False]\n",
      " [False False False False]\n",
      " [False False  True False]] \n",
      "\n"
     ]
    }
   ],
   "source": [
    "print(s1>2,\"\\n\")\n",
    "print(s1<2,\"\\n\")\n",
    "print(s1==10,\"\\n\")"
   ]
  },
  {
   "cell_type": "markdown",
   "id": "63a5e024-81e2-4be2-b1a1-0464b872c9e2",
   "metadata": {},
   "source": [
    "# vector operation \n",
    "when you do the operation on numpy array which have same size a1=(3x4), a2 = (3 x 4)\n",
    "> # arithmatic"
   ]
  },
  {
   "cell_type": "code",
   "execution_count": 273,
   "id": "d9bb4b33-ba37-40ec-834d-af9df95c0d3e",
   "metadata": {},
   "outputs": [],
   "source": [
    "s1=np.arange(12).reshape(3,4)\n",
    "s2=np.arange(12,24).reshape(3,4)"
   ]
  },
  {
   "cell_type": "code",
   "execution_count": 276,
   "id": "1de3f304-074f-45ac-be8a-42ca924192c8",
   "metadata": {},
   "outputs": [
    {
     "name": "stdout",
     "output_type": "stream",
     "text": [
      "multiply with s2\n",
      "[[  0  13  28  45]\n",
      " [ 64  85 108 133]\n",
      " [160 189 220 253]] \n",
      "\n",
      "Addition  with s2\n",
      "[[12 14 16 18]\n",
      " [20 22 24 26]\n",
      " [28 30 32 34]] \n",
      "\n",
      "division with s2\n",
      "[[0.         0.07692308 0.14285714 0.2       ]\n",
      " [0.25       0.29411765 0.33333333 0.36842105]\n",
      " [0.4        0.42857143 0.45454545 0.47826087]] \n",
      "\n",
      "reminder  with s2\n",
      "[[ 0  1  2  3]\n",
      " [ 4  5  6  7]\n",
      " [ 8  9 10 11]] \n",
      "\n",
      "subtraction with s2\n",
      "[[-12 -12 -12 -12]\n",
      " [-12 -12 -12 -12]\n",
      " [-12 -12 -12 -12]] \n",
      "\n",
      "power/square  of s2\n",
      "[[          0           1       16384    14348907]\n",
      " [          0 -1564725563  1159987200   442181591]\n",
      " [          0  1914644777 -1304428544  -122979837]] \n",
      "\n",
      "cube  with s2\n",
      "[[          0           1       16384    14348907]\n",
      " [          0 -1564725563  1159987200   442181591]\n",
      " [          0  1914644777 -1304428544  -122979837]] \n",
      "\n",
      "true division  with s2\n",
      "[[0 0 0 0]\n",
      " [0 0 0 0]\n",
      " [0 0 0 0]] \n",
      "\n"
     ]
    }
   ],
   "source": [
    "print(\"multiply with s2\")\n",
    "print(s1*s2,\"\\n\")\n",
    "print(\"Addition  with s2\")\n",
    "print(s1+s2,\"\\n\")\n",
    "print(\"division with s2\")\n",
    "print(s1/s2,\"\\n\")\n",
    "print(\"reminder  with s2\")\n",
    "print(s1%s2,\"\\n\")\n",
    "print(\"subtraction with s2\")\n",
    "print(s1-s2,\"\\n\")\n",
    "print(\"power/square  of s2\")\n",
    "print(s1**s2,\"\\n\")\n",
    "print(\"cube  with s2\")\n",
    "print(s1**s2,\"\\n\")\n",
    "print(\"true division  with s2\")\n",
    "print(s1//s2,\"\\n\")\n",
    "\n"
   ]
  },
  {
   "cell_type": "markdown",
   "id": "c6d86b76-adf9-4416-ac95-63b87d2070e6",
   "metadata": {},
   "source": [
    "# array functions\n",
    "\n",
    ">axis 0 -> column and 1 -> row\n"
   ]
  },
  {
   "cell_type": "code",
   "execution_count": 40,
   "id": "3d8dd3c0-e19a-4dac-8669-35cea3347ce4",
   "metadata": {},
   "outputs": [
    {
     "data": {
      "text/plain": [
       "array([[16., 94.,  7.],\n",
       "       [83., 15., 12.],\n",
       "       [77., 24.,  7.]])"
      ]
     },
     "execution_count": 40,
     "metadata": {},
     "output_type": "execute_result"
    }
   ],
   "source": [
    "n1=np.random.random((3,3))\n",
    "n1=np.round(n1*100)\n",
    "n1"
   ]
  },
  {
   "cell_type": "code",
   "execution_count": 4,
   "id": "23ebd5eb-dbb2-45c7-9a94-3c284a25d5d1",
   "metadata": {},
   "outputs": [
    {
     "data": {
      "text/plain": [
       "92.0"
      ]
     },
     "execution_count": 4,
     "metadata": {},
     "output_type": "execute_result"
    }
   ],
   "source": [
    "np.max(n1)"
   ]
  },
  {
   "cell_type": "code",
   "execution_count": 5,
   "id": "ce844c85-1c2a-4eae-a247-a62ce38782ed",
   "metadata": {},
   "outputs": [
    {
     "data": {
      "text/plain": [
       "array([51., 92., 84.])"
      ]
     },
     "execution_count": 5,
     "metadata": {},
     "output_type": "execute_result"
    }
   ],
   "source": [
    "np.max(n1,axis=1) # axis will give you maximum number of each row & columns"
   ]
  },
  {
   "cell_type": "code",
   "execution_count": 6,
   "id": "3820ea9a-2cab-4805-9ba1-df03bec71af4",
   "metadata": {},
   "outputs": [
    {
     "data": {
      "text/plain": [
       "23.0"
      ]
     },
     "execution_count": 6,
     "metadata": {},
     "output_type": "execute_result"
    }
   ],
   "source": [
    "np.min(n1)"
   ]
  },
  {
   "cell_type": "code",
   "execution_count": 7,
   "id": "cb4ac2c4-fbc9-47a9-a0e8-5cc526106c3d",
   "metadata": {},
   "outputs": [
    {
     "data": {
      "text/plain": [
       "array([84., 69., 92.])"
      ]
     },
     "execution_count": 7,
     "metadata": {},
     "output_type": "execute_result"
    }
   ],
   "source": [
    "np.max(n1,axis=0) # axis will give you minimum number of each column & row"
   ]
  },
  {
   "cell_type": "code",
   "execution_count": 8,
   "id": "66cb1d50-e08f-4eb1-aa21-273269deed69",
   "metadata": {},
   "outputs": [
    {
     "data": {
      "text/plain": [
       "549.0"
      ]
     },
     "execution_count": 8,
     "metadata": {},
     "output_type": "execute_result"
    }
   ],
   "source": [
    "np.sum(n1)"
   ]
  },
  {
   "cell_type": "code",
   "execution_count": 9,
   "id": "6ad7f899-79ca-424b-a503-527b1048f8dc",
   "metadata": {},
   "outputs": [
    {
     "data": {
      "text/plain": [
       "array([186., 137., 226.])"
      ]
     },
     "execution_count": 9,
     "metadata": {},
     "output_type": "execute_result"
    }
   ],
   "source": [
    "np.sum(n1,axis=0)"
   ]
  },
  {
   "cell_type": "code",
   "execution_count": 10,
   "id": "2c437eaf-a676-40ad-a7d8-a596e6d1e69f",
   "metadata": {},
   "outputs": [
    {
     "data": {
      "text/plain": [
       "array([[4.79583152, 5.47722558, 7.14142843],\n",
       "       [8.88819442, 6.164414  , 9.59166305],\n",
       "       [9.16515139, 8.30662386, 9.11043358]])"
      ]
     },
     "execution_count": 10,
     "metadata": {},
     "output_type": "execute_result"
    }
   ],
   "source": [
    "np.sqrt(n1)"
   ]
  },
  {
   "cell_type": "code",
   "execution_count": 11,
   "id": "0a5a8c9a-07d8-473a-8621-2cf8107d53a8",
   "metadata": {},
   "outputs": [
    {
     "data": {
      "text/plain": [
       "4675458981977280.0"
      ]
     },
     "execution_count": 11,
     "metadata": {},
     "output_type": "execute_result"
    }
   ],
   "source": [
    "np.product(n1) # will multiply all the numbers"
   ]
  },
  {
   "cell_type": "code",
   "execution_count": 12,
   "id": "c24258d3-5de1-4c6a-9f52-a0d14726230d",
   "metadata": {},
   "outputs": [
    {
     "data": {
      "text/plain": [
       "array([ 35190., 276184., 481068.])"
      ]
     },
     "execution_count": 12,
     "metadata": {},
     "output_type": "execute_result"
    }
   ],
   "source": [
    "np.product(n1,axis=1) # will multiply all the numbers"
   ]
  },
  {
   "cell_type": "code",
   "execution_count": 13,
   "id": "03095d4a-fdaf-4f71-8ff9-b7c0d3ad1010",
   "metadata": {},
   "outputs": [
    {
     "data": {
      "text/plain": [
       "61.0"
      ]
     },
     "execution_count": 13,
     "metadata": {},
     "output_type": "execute_result"
    }
   ],
   "source": [
    "np.mean(n1)"
   ]
  },
  {
   "cell_type": "code",
   "execution_count": 14,
   "id": "88c99400-c6a2-4bce-9baa-29ae9c4bc755",
   "metadata": {},
   "outputs": [
    {
     "data": {
      "text/plain": [
       "array([62.        , 45.66666667, 75.33333333])"
      ]
     },
     "execution_count": 14,
     "metadata": {},
     "output_type": "execute_result"
    }
   ],
   "source": [
    "np.mean(n1,axis=0)"
   ]
  },
  {
   "cell_type": "code",
   "execution_count": 15,
   "id": "95afe060-a48e-44fa-ad0b-26904ad610ff",
   "metadata": {},
   "outputs": [
    {
     "data": {
      "text/plain": [
       "69.0"
      ]
     },
     "execution_count": 15,
     "metadata": {},
     "output_type": "execute_result"
    }
   ],
   "source": [
    "np.median(n1)"
   ]
  },
  {
   "cell_type": "code",
   "execution_count": 16,
   "id": "b9580636-ec3a-4773-8f53-7a1745f719a1",
   "metadata": {},
   "outputs": [
    {
     "data": {
      "text/plain": [
       "array([30., 79., 83.])"
      ]
     },
     "execution_count": 16,
     "metadata": {},
     "output_type": "execute_result"
    }
   ],
   "source": [
    "np.median(n1,axis=1)"
   ]
  },
  {
   "cell_type": "code",
   "execution_count": 17,
   "id": "5610e6b0-724a-4b1b-8351-7c20045143b6",
   "metadata": {},
   "outputs": [
    {
     "data": {
      "text/plain": [
       "24.48582356294261"
      ]
     },
     "execution_count": 17,
     "metadata": {},
     "output_type": "execute_result"
    }
   ],
   "source": [
    "np.std(n1)"
   ]
  },
  {
   "cell_type": "code",
   "execution_count": 18,
   "id": "101007e8-3430-40e6-9cc8-0b946aa77085",
   "metadata": {},
   "outputs": [
    {
     "data": {
      "text/plain": [
       "array([11.8977122 , 23.01207413,  6.84754619])"
      ]
     },
     "execution_count": 18,
     "metadata": {},
     "output_type": "execute_result"
    }
   ],
   "source": [
    "np.std(n1,axis=1)"
   ]
  },
  {
   "cell_type": "code",
   "execution_count": 19,
   "id": "40fffc9e-c444-4b2b-97df-b95ff9f0c83f",
   "metadata": {},
   "outputs": [
    {
     "data": {
      "text/plain": [
       "599.5555555555555"
      ]
     },
     "execution_count": 19,
     "metadata": {},
     "output_type": "execute_result"
    }
   ],
   "source": [
    "np.var(n1)"
   ]
  },
  {
   "cell_type": "code",
   "execution_count": 20,
   "id": "b8b24691-e7bc-4be1-aee7-732db5d1b56d",
   "metadata": {},
   "outputs": [
    {
     "data": {
      "text/plain": [
       "array([141.55555556, 529.55555556,  46.88888889])"
      ]
     },
     "execution_count": 20,
     "metadata": {},
     "output_type": "execute_result"
    }
   ],
   "source": [
    "np.var(n1,axis=1)"
   ]
  },
  {
   "cell_type": "markdown",
   "id": "aee60fe7-2215-4e38-aad8-2a6a8894a5b3",
   "metadata": {},
   "source": [
    "# trignomatic functions"
   ]
  },
  {
   "cell_type": "code",
   "execution_count": 21,
   "id": "4b3ca6c6-aa2b-4588-b3c1-782b91bc7734",
   "metadata": {},
   "outputs": [
    {
     "data": {
      "text/plain": [
       "array([[-0.8462204 , -0.98803162,  0.67022918],\n",
       "       [-0.44411267,  0.29636858, -0.77946607],\n",
       "       [ 0.73319032, -0.11478481,  0.96836446]])"
      ]
     },
     "execution_count": 21,
     "metadata": {},
     "output_type": "execute_result"
    }
   ],
   "source": [
    "np.sin(n1)"
   ]
  },
  {
   "cell_type": "code",
   "execution_count": 22,
   "id": "851eb72e-9442-4a61-987b-af14205bf0bc",
   "metadata": {},
   "outputs": [
    {
     "data": {
      "text/plain": [
       "array([[3.13549422, 3.40119738, 3.93182563],\n",
       "       [4.36944785, 3.63758616, 4.52178858],\n",
       "       [4.4308168 , 4.2341065 , 4.41884061]])"
      ]
     },
     "execution_count": 22,
     "metadata": {},
     "output_type": "execute_result"
    }
   ],
   "source": [
    "np.log(n1)"
   ]
  },
  {
   "cell_type": "code",
   "execution_count": 23,
   "id": "2ba33e22-032c-41ed-a6c7-438658e306b7",
   "metadata": {},
   "outputs": [
    {
     "data": {
      "text/plain": [
       "array([[ 1.58815308, -6.4053312 ,  0.90308615],\n",
       "       [ 0.49567753,  0.31030966,  1.24427006],\n",
       "       [-1.07818381, -0.11554855,  3.88059631]])"
      ]
     },
     "execution_count": 23,
     "metadata": {},
     "output_type": "execute_result"
    }
   ],
   "source": [
    "np.tan(n1)"
   ]
  },
  {
   "cell_type": "markdown",
   "id": "9bc49f2f-10f1-4f57-9f65-f2cb541df647",
   "metadata": {},
   "source": [
    "# dot product **most important**"
   ]
  },
  {
   "cell_type": "code",
   "execution_count": 41,
   "id": "63057d10-71ad-40d8-a854-e2469033687f",
   "metadata": {},
   "outputs": [
    {
     "name": "stdout",
     "output_type": "stream",
     "text": [
      "[[ 0  1  2  3]\n",
      " [ 4  5  6  7]\n",
      " [ 8  9 10 11]]\n",
      "[[12 13 14]\n",
      " [15 16 17]\n",
      " [18 19 20]\n",
      " [21 22 23]]\n"
     ]
    },
    {
     "data": {
      "text/plain": [
       "array([[114, 120, 126],\n",
       "       [378, 400, 422],\n",
       "       [642, 680, 718]])"
      ]
     },
     "execution_count": 41,
     "metadata": {},
     "output_type": "execute_result"
    }
   ],
   "source": [
    "a4=np.arange(12).reshape(3,4)\n",
    "a5=np.arange(12,24).reshape(4,3)\n",
    "print(a4)\n",
    "print(a5)\n",
    "np.dot(a4,a5)"
   ]
  },
  {
   "cell_type": "code",
   "execution_count": 44,
   "id": "8e227d2a-ec4e-44eb-8eb9-96a7a616aa8e",
   "metadata": {},
   "outputs": [
    {
     "data": {
      "text/plain": [
       "array([[8.88611052e+06, 6.66317622e+40, 1.09663316e+03],\n",
       "       [1.11286375e+36, 3.26901737e+06, 1.62754791e+05],\n",
       "       [2.75851345e+33, 2.64891221e+10, 1.09663316e+03]])"
      ]
     },
     "execution_count": 44,
     "metadata": {},
     "output_type": "execute_result"
    }
   ],
   "source": [
    "# exponent \n",
    "np.exp(n1)"
   ]
  },
  {
   "cell_type": "markdown",
   "id": "3b7ed1cf-0523-4681-8990-63f2282e5f93",
   "metadata": {},
   "source": [
    "# round off"
   ]
  },
  {
   "cell_type": "code",
   "execution_count": 26,
   "id": "49686de1-1b92-4df3-a5d0-81c8766ec00b",
   "metadata": {},
   "outputs": [
    {
     "data": {
      "text/plain": [
       "array([[65., 27., 99.],\n",
       "       [ 5., 86., 33.]])"
      ]
     },
     "execution_count": 26,
     "metadata": {},
     "output_type": "execute_result"
    }
   ],
   "source": [
    "# round of the float value into integer\n",
    "np.round(np.random.random((2,3))*100)"
   ]
  },
  {
   "cell_type": "code",
   "execution_count": 27,
   "id": "be55e589-8dc9-4eb9-acd4-5abb4f280832",
   "metadata": {},
   "outputs": [
    {
     "data": {
      "text/plain": [
       "array([[41., 78., 62.],\n",
       "       [96., 20., 94.]])"
      ]
     },
     "execution_count": 27,
     "metadata": {},
     "output_type": "execute_result"
    }
   ],
   "source": [
    "# floor backword round off\n",
    "np.floor(np.random.random((2,3))*100)"
   ]
  },
  {
   "cell_type": "code",
   "execution_count": 28,
   "id": "002d4e7f-9692-4fd5-9b61-f4d65f93146d",
   "metadata": {},
   "outputs": [
    {
     "data": {
      "text/plain": [
       "array([[30., 72.,  4.],\n",
       "       [90., 54., 86.]])"
      ]
     },
     "execution_count": 28,
     "metadata": {},
     "output_type": "execute_result"
    }
   ],
   "source": [
    "# ceil forword round off\n",
    "np.ceil(np.random.random((2,3))*100)"
   ]
  },
  {
   "cell_type": "markdown",
   "id": "d7105f2e-86eb-4610-8f47-9dec02f4ab80",
   "metadata": {},
   "source": [
    "# indexing & slicing"
   ]
  },
  {
   "cell_type": "code",
   "execution_count": 29,
   "id": "59888374-845e-4a86-8f36-87b076f7ca3f",
   "metadata": {},
   "outputs": [
    {
     "data": {
      "text/plain": [
       "array([1, 2, 3, 4, 5, 6, 7, 8, 9])"
      ]
     },
     "execution_count": 29,
     "metadata": {},
     "output_type": "execute_result"
    }
   ],
   "source": [
    "a1=np.arange(1,10)\n",
    "a1\n",
    "a2=np.arange(12).reshape(3,4)\n",
    "a2\n",
    "a3=np.arange(8).reshape(2,2,2)\n",
    "a1"
   ]
  },
  {
   "cell_type": "markdown",
   "id": "b478820f-3abe-4cfe-89f0-d77baaac0b0e",
   "metadata": {},
   "source": [
    "# indexing on 1D array"
   ]
  },
  {
   "cell_type": "code",
   "execution_count": 30,
   "id": "eda29555-e911-425a-bc21-ac2c5f7aa4f0",
   "metadata": {},
   "outputs": [
    {
     "name": "stdout",
     "output_type": "stream",
     "text": [
      "1\n",
      "9\n",
      "[5 6 7 8]\n",
      "[4 5 6 7 8]\n",
      "[9 8 7 6 5 4 3 2 1]\n"
     ]
    }
   ],
   "source": [
    "\n",
    "print(a1[0]) # positive indexing\n",
    "print(a1[-1]) # negative indexing\n",
    "print(a1[4:8]) # between the index\n",
    "print(a1[-6:-1])\n",
    "print(a1[::-1]) # reverse array"
   ]
  },
  {
   "cell_type": "markdown",
   "id": "fb60b985-0ac0-4f67-93b6-1f86bda7bd0f",
   "metadata": {},
   "source": [
    "# indexing on 2D array\n",
    "\n",
    ">a1[row number, column number]"
   ]
  },
  {
   "cell_type": "code",
   "execution_count": 31,
   "id": "e4630bfe-a77d-4974-99ba-390afd78913a",
   "metadata": {},
   "outputs": [
    {
     "name": "stdout",
     "output_type": "stream",
     "text": [
      "[[ 0  1  2  3]\n",
      " [ 4  5  6  7]\n",
      " [ 8  9 10 11]]\n"
     ]
    }
   ],
   "source": [
    "print(a2)"
   ]
  },
  {
   "cell_type": "code",
   "execution_count": 47,
   "id": "75ebd9ba-407c-47ae-945f-f7ea28a24f90",
   "metadata": {},
   "outputs": [
    {
     "name": "stdout",
     "output_type": "stream",
     "text": [
      "6\n"
     ]
    }
   ],
   "source": [
    "# find 6 in the 2d array a1[row number, column number]\n",
    "print(a2[1,2])"
   ]
  },
  {
   "cell_type": "code",
   "execution_count": 48,
   "id": "8723f0cf-be46-4d5d-9a4b-095f8d165652",
   "metadata": {},
   "outputs": [
    {
     "name": "stdout",
     "output_type": "stream",
     "text": [
      "11\n"
     ]
    }
   ],
   "source": [
    "# find 11 in the 2d array a1[row number, column number]\n",
    "print(a2[2,3])"
   ]
  },
  {
   "cell_type": "code",
   "execution_count": 50,
   "id": "2dab6936-6ae6-4119-a93b-7378537ed157",
   "metadata": {},
   "outputs": [
    {
     "name": "stdout",
     "output_type": "stream",
     "text": [
      "9\n"
     ]
    }
   ],
   "source": [
    "# find 9 in the 2d array a1[row number, column number]\n",
    "print(a2[2,1])"
   ]
  },
  {
   "cell_type": "code",
   "execution_count": 51,
   "id": "18ab3f69-526e-427e-8e62-701994324bc8",
   "metadata": {},
   "outputs": [
    {
     "name": "stdout",
     "output_type": "stream",
     "text": [
      "1\n"
     ]
    }
   ],
   "source": [
    "# find 1 in the 2d array a1[row number, column number]\n",
    "print(a2[0,1])"
   ]
  },
  {
   "cell_type": "code",
   "execution_count": 52,
   "id": "f47bc66b-59e6-40e7-96b5-d8dbbd619f11",
   "metadata": {},
   "outputs": [
    {
     "name": "stdout",
     "output_type": "stream",
     "text": [
      "3\n"
     ]
    }
   ],
   "source": [
    "# find 3 in the 2d array a1[row number, column number]\n",
    "print(a2[0,3])"
   ]
  },
  {
   "cell_type": "markdown",
   "id": "2e8fc190-4bc5-4dab-8251-04b3b855cf6e",
   "metadata": {},
   "source": [
    "# indexing on 3d array\n",
    ">a1[2d array number,  row number, column number]"
   ]
  },
  {
   "cell_type": "code",
   "execution_count": 54,
   "id": "48b1a0ef-7701-40bf-adf7-350f7c2aedc6",
   "metadata": {},
   "outputs": [
    {
     "data": {
      "text/plain": [
       "array([[[0, 1],\n",
       "        [2, 3]],\n",
       "\n",
       "       [[4, 5],\n",
       "        [6, 7]]])"
      ]
     },
     "execution_count": 54,
     "metadata": {},
     "output_type": "execute_result"
    }
   ],
   "source": [
    "a3\n",
    "#     0, 1             array number   []   2d array number\n",
    "# ([[[0, 1],        [] 0              []    0\n",
    "#         [2, 3]],  [] 1              []\n",
    "#          0  1     []                []\n",
    "#        [[4, 5],   [] 0              []    1\n",
    "#         [6, 7]]]  [] 1              []"
   ]
  },
  {
   "cell_type": "code",
   "execution_count": 55,
   "id": "e202a3e2-0aa6-4763-9c81-fcb78ffe75ec",
   "metadata": {},
   "outputs": [
    {
     "data": {
      "text/plain": [
       "5"
      ]
     },
     "execution_count": 55,
     "metadata": {},
     "output_type": "execute_result"
    }
   ],
   "source": [
    "# find 5 in 3d array\n",
    "a3[1,0,1]"
   ]
  },
  {
   "cell_type": "code",
   "execution_count": 56,
   "id": "b821c154-2c4e-438d-b1cb-1e3c56fb64c8",
   "metadata": {},
   "outputs": [
    {
     "data": {
      "text/plain": [
       "3"
      ]
     },
     "execution_count": 56,
     "metadata": {},
     "output_type": "execute_result"
    }
   ],
   "source": [
    "# find 3 in 3d array\n",
    "a3[0,1,1]"
   ]
  },
  {
   "cell_type": "code",
   "execution_count": 57,
   "id": "f8d93132-a7ac-4d0a-b8b5-cd1b76d7abfc",
   "metadata": {},
   "outputs": [
    {
     "data": {
      "text/plain": [
       "7"
      ]
     },
     "execution_count": 57,
     "metadata": {},
     "output_type": "execute_result"
    }
   ],
   "source": [
    "# find 7 in 3d array\n",
    "a3[1,1,1]"
   ]
  },
  {
   "cell_type": "code",
   "execution_count": 58,
   "id": "968d9996-db0c-4547-9d54-eb3d77de1d09",
   "metadata": {},
   "outputs": [
    {
     "data": {
      "text/plain": [
       "0"
      ]
     },
     "execution_count": 58,
     "metadata": {},
     "output_type": "execute_result"
    }
   ],
   "source": [
    "# find 0 in 3d array\n",
    "a3[0,0,0]"
   ]
  },
  {
   "cell_type": "code",
   "execution_count": 59,
   "id": "439cdc3b-2d36-4263-bca3-0de69ca4f05c",
   "metadata": {},
   "outputs": [
    {
     "data": {
      "text/plain": [
       "6"
      ]
     },
     "execution_count": 59,
     "metadata": {},
     "output_type": "execute_result"
    }
   ],
   "source": [
    "# find 6 in 3d array\n",
    "a3[1,1,0]"
   ]
  },
  {
   "cell_type": "code",
   "execution_count": 176,
   "id": "f98677f9-d5c1-4690-ad4b-30559ec3f458",
   "metadata": {},
   "outputs": [
    {
     "data": {
      "text/plain": [
       "3"
      ]
     },
     "execution_count": 176,
     "metadata": {},
     "output_type": "execute_result"
    }
   ],
   "source": [
    "# find 3 in 3d array\n",
    "a3[0,1,1]"
   ]
  },
  {
   "cell_type": "markdown",
   "id": "11b4077e-15fd-4a4b-bb6a-4fad6852cfe0",
   "metadata": {},
   "source": [
    "# slicing on 1d , 2d & 3d Array"
   ]
  },
  {
   "cell_type": "code",
   "execution_count": 60,
   "id": "ff52c3f3-96e7-4b43-b947-57b7925d3bdd",
   "metadata": {},
   "outputs": [
    {
     "data": {
      "text/plain": [
       "array([1, 2, 3, 4, 5, 6, 7, 8, 9])"
      ]
     },
     "execution_count": 60,
     "metadata": {},
     "output_type": "execute_result"
    }
   ],
   "source": [
    "a1"
   ]
  },
  {
   "cell_type": "code",
   "execution_count": 62,
   "id": "9987ddda-e030-4286-a418-e417339f378a",
   "metadata": {},
   "outputs": [
    {
     "data": {
      "text/plain": [
       "array([2, 3, 4])"
      ]
     },
     "execution_count": 62,
     "metadata": {},
     "output_type": "execute_result"
    }
   ],
   "source": [
    "# slice 2,3 & 4 from th a1 array\n",
    "a1[1:4]"
   ]
  },
  {
   "cell_type": "code",
   "execution_count": 66,
   "id": "ee31530d-0786-4bcc-bc33-2d4be544dfb0",
   "metadata": {},
   "outputs": [
    {
     "data": {
      "text/plain": [
       "array([[ 0,  1,  2,  3],\n",
       "       [ 4,  5,  6,  7],\n",
       "       [ 8,  9, 10, 11]])"
      ]
     },
     "execution_count": 66,
     "metadata": {},
     "output_type": "execute_result"
    }
   ],
   "source": [
    "a2"
   ]
  },
  {
   "cell_type": "markdown",
   "id": "54b89436-27c3-4aeb-aa56-02c57e6637fc",
   "metadata": {},
   "source": [
    "># find rows value"
   ]
  },
  {
   "cell_type": "code",
   "execution_count": 72,
   "id": "378b746a-22af-474a-8a40-3f874e505af9",
   "metadata": {},
   "outputs": [
    {
     "data": {
      "text/plain": [
       "array([[0, 1, 2, 3]])"
      ]
     },
     "execution_count": 72,
     "metadata": {},
     "output_type": "execute_result"
    }
   ],
   "source": [
    "# give only first row from a2 array\n",
    "a2[0:1]"
   ]
  },
  {
   "cell_type": "code",
   "execution_count": 74,
   "id": "689547c0-db39-4934-9df2-4c5838868537",
   "metadata": {},
   "outputs": [
    {
     "data": {
      "text/plain": [
       "array([[4, 5, 6, 7]])"
      ]
     },
     "execution_count": 74,
     "metadata": {},
     "output_type": "execute_result"
    }
   ],
   "source": [
    "# give only 2nd row from a2 array\n",
    "a2[1:2]"
   ]
  },
  {
   "cell_type": "code",
   "execution_count": 75,
   "id": "93e3ce03-f293-48c7-9f2f-78b8cf230ba7",
   "metadata": {},
   "outputs": [
    {
     "data": {
      "text/plain": [
       "array([[ 8,  9, 10, 11]])"
      ]
     },
     "execution_count": 75,
     "metadata": {},
     "output_type": "execute_result"
    }
   ],
   "source": [
    "# give only 3rd row from a2 array\n",
    "a2[2:]"
   ]
  },
  {
   "cell_type": "markdown",
   "id": "b4c15d20-05a9-4f12-b0ce-cc61d688d1e4",
   "metadata": {},
   "source": [
    "># find columns values"
   ]
  },
  {
   "cell_type": "code",
   "execution_count": 1,
   "id": "ee0685a6-0c60-46f8-8c73-92a52e60d231",
   "metadata": {},
   "outputs": [],
   "source": [
    "import numpy as np"
   ]
  },
  {
   "cell_type": "code",
   "execution_count": 32,
   "id": "e6a53f2b-711b-4c95-8e5c-5ce818bc2f6a",
   "metadata": {},
   "outputs": [
    {
     "data": {
      "text/plain": [
       "array([[ 0,  1,  2,  3],\n",
       "       [ 4,  5,  6,  7],\n",
       "       [ 8,  9, 10, 11]])"
      ]
     },
     "execution_count": 32,
     "metadata": {},
     "output_type": "execute_result"
    }
   ],
   "source": [
    "a2"
   ]
  },
  {
   "cell_type": "code",
   "execution_count": 57,
   "id": "c292329b-a385-4f2d-892e-654f1157c6ca",
   "metadata": {},
   "outputs": [
    {
     "data": {
      "text/plain": [
       "array([5, 6])"
      ]
     },
     "execution_count": 57,
     "metadata": {},
     "output_type": "execute_result"
    }
   ],
   "source": [
    "a2[1,1:3]"
   ]
  },
  {
   "cell_type": "code",
   "execution_count": 82,
   "id": "a509a320-d25c-423e-ac6a-88d8bb106921",
   "metadata": {},
   "outputs": [
    {
     "data": {
      "text/plain": [
       "array([ 2,  6, 10])"
      ]
     },
     "execution_count": 82,
     "metadata": {},
     "output_type": "execute_result"
    }
   ],
   "source": [
    "# give only 2 column from a2 array\n",
    "a2[:,2]"
   ]
  },
  {
   "cell_type": "code",
   "execution_count": 83,
   "id": "206204a0-346a-4706-8ec9-d7984ffbc8b6",
   "metadata": {},
   "outputs": [
    {
     "data": {
      "text/plain": [
       "array([0, 4, 8])"
      ]
     },
     "execution_count": 83,
     "metadata": {},
     "output_type": "execute_result"
    }
   ],
   "source": [
    "# give only 1 column from a2 array\n",
    "a2[:,0]"
   ]
  },
  {
   "cell_type": "code",
   "execution_count": 84,
   "id": "f2c5d2f7-0928-4ed3-994d-b112f7ad1ecc",
   "metadata": {},
   "outputs": [
    {
     "data": {
      "text/plain": [
       "array([ 3,  7, 11])"
      ]
     },
     "execution_count": 84,
     "metadata": {},
     "output_type": "execute_result"
    }
   ],
   "source": [
    "# give only 3 column from a2 array\n",
    "a2[:,3]"
   ]
  },
  {
   "cell_type": "markdown",
   "id": "01cdc159-c16c-42a3-8584-761f845ad741",
   "metadata": {},
   "source": [
    "># find row & columns of numbers between the array"
   ]
  },
  {
   "cell_type": "code",
   "execution_count": 178,
   "id": "9476d340-114b-47c5-b29f-268f7587437d",
   "metadata": {},
   "outputs": [
    {
     "name": "stdout",
     "output_type": "stream",
     "text": [
      "[[ 4  5  6  7]\n",
      " [ 8  9 10 11]]\n",
      "\n",
      "[[ 1  2]\n",
      " [ 5  6]\n",
      " [ 9 10]]\n",
      "\n",
      "[[ 5  6]\n",
      " [ 9 10]]\n"
     ]
    }
   ],
   "source": [
    "# give 5,6 & 9 ,10 from a2 array\n",
    "#   row number: , column number\n",
    "a2[1:,1:3]\n",
    "\n",
    "print(a2[1:]) # for rows\n",
    "print()\n",
    "print(a2[:,1:3]) # for columns\n",
    "print()\n",
    "print(a2[1: ,1:3]) # combine together give you [5,6],[9,10]"
   ]
  },
  {
   "cell_type": "code",
   "execution_count": 102,
   "id": "d4b66cc7-53d3-4823-b657-12201f4663f9",
   "metadata": {},
   "outputs": [
    {
     "name": "stdout",
     "output_type": "stream",
     "text": [
      "[[ 0  1  2  3]\n",
      " [ 4  5  6  7]\n",
      " [ 8  9 10 11]]\n",
      "\n",
      "[[ 0  1  2  3]\n",
      " [ 8  9 10 11]]\n",
      "\n",
      "[[ 0  3]\n",
      " [ 4  7]\n",
      " [ 8 11]]\n",
      "\n",
      "[[ 0  3]\n",
      " [ 8 11]]\n"
     ]
    }
   ],
   "source": [
    "# give 0,3, 8 & 11 from a2 array\n",
    "print(a2)\n",
    "print()\n",
    "print(a2[::2,::])\n",
    "print()\n",
    "print(a2[::,::3])\n",
    "print()\n",
    "print(a2[::2,::3])"
   ]
  },
  {
   "cell_type": "code",
   "execution_count": 129,
   "id": "d97c3ad0-a3fe-4df0-8ffd-ef50625da34d",
   "metadata": {},
   "outputs": [
    {
     "name": "stdout",
     "output_type": "stream",
     "text": [
      "[[ 0  1  2  3]\n",
      " [ 4  5  6  7]\n",
      " [ 8  9 10 11]]\n",
      "\n",
      "[[ 0  1  2  3]\n",
      " [ 8  9 10 11]]\n",
      "\n",
      "[[ 1  3]\n",
      " [ 5  7]\n",
      " [ 9 11]]\n",
      "\n",
      "[[ 1  3]\n",
      " [ 9 11]]\n"
     ]
    }
   ],
   "source": [
    "# give 1,3, 9 & 11 from a2 array\n",
    "print(a2)\n",
    "print()\n",
    "print(a2[::2,::])\n",
    "print()\n",
    "print(a2[::,1::2])\n",
    "print()\n",
    "print(a2[::2,1::2])"
   ]
  },
  {
   "cell_type": "code",
   "execution_count": 138,
   "id": "320fac2e-7585-4997-b01c-2b933d02dc00",
   "metadata": {},
   "outputs": [
    {
     "name": "stdout",
     "output_type": "stream",
     "text": [
      "[[4 5 6 7]]\n",
      "\n",
      "[[ 0  3]\n",
      " [ 4  7]\n",
      " [ 8 11]]\n",
      "\n",
      "[[4 7]]\n"
     ]
    }
   ],
   "source": [
    "# give 4 & 7 from a2 array\n",
    "print(a2[1::2]) # for finding row\n",
    "print()\n",
    "print(a2[::,::3]) # for finding columns\n",
    "print()\n",
    "print(a2[1::2,::3]) #finding values"
   ]
  },
  {
   "cell_type": "code",
   "execution_count": 173,
   "id": "e3fbd6d2-70ef-454d-a805-01875d89615a",
   "metadata": {},
   "outputs": [
    {
     "name": "stdout",
     "output_type": "stream",
     "text": [
      "[[ 0  1  2  3]\n",
      " [ 4  5  6  7]\n",
      " [ 8  9 10 11]]\n",
      "\n",
      "[[0 1 2 3]\n",
      " [4 5 6 7]]\n",
      "\n",
      "[[ 1  2  3]\n",
      " [ 5  6  7]\n",
      " [ 9 10 11]]\n",
      "\n",
      "[[1 2 3]\n",
      " [5 6 7]]\n"
     ]
    }
   ],
   "source": [
    "# give 1 2 3 5 6 7 from a2 array\n",
    "print(a2)\n",
    "print()\n",
    "print(a2[0:2])\n",
    "print()\n",
    "print(a2[::,1::1])\n",
    "print()\n",
    "print(a2[0:2,1::1])"
   ]
  },
  {
   "cell_type": "code",
   "execution_count": 174,
   "id": "8c9b6973-b734-4435-888e-9b8e36ce12c6",
   "metadata": {},
   "outputs": [
    {
     "name": "stdout",
     "output_type": "stream",
     "text": [
      "[[ 0  1  2  3]\n",
      " [ 4  5  6  7]\n",
      " [ 8  9 10 11]]\n",
      "\n",
      "[[0 1 2 3]\n",
      " [4 5 6 7]]\n",
      "\n",
      "[[ 1  2  3]\n",
      " [ 5  6  7]\n",
      " [ 9 10 11]]\n",
      "\n",
      "[[1 3]\n",
      " [5 7]]\n"
     ]
    }
   ],
   "source": [
    "# give 1 3 5 7 from a2 array\n",
    "print(a2)\n",
    "print()\n",
    "print(a2[0:2])\n",
    "print()\n",
    "print(a2[::,1::1])\n",
    "print()\n",
    "print(a2[0:2,1::2])"
   ]
  },
  {
   "cell_type": "markdown",
   "id": "88ae44d6-3324-4acf-99f1-0798a7a28b41",
   "metadata": {},
   "source": [
    "># 3d array slicing"
   ]
  },
  {
   "cell_type": "code",
   "execution_count": 182,
   "id": "3a6c222f-d2df-44b5-a16c-068717be029f",
   "metadata": {},
   "outputs": [
    {
     "data": {
      "text/plain": [
       "array([[[ 0,  1,  2],\n",
       "        [ 3,  4,  5],\n",
       "        [ 6,  7,  8]],\n",
       "\n",
       "       [[ 9, 10, 11],\n",
       "        [12, 13, 14],\n",
       "        [15, 16, 17]],\n",
       "\n",
       "       [[18, 19, 20],\n",
       "        [21, 22, 23],\n",
       "        [24, 25, 26]]])"
      ]
     },
     "execution_count": 182,
     "metadata": {},
     "output_type": "execute_result"
    }
   ],
   "source": [
    "a3=np.arange(27).reshape(3,3,3)\n",
    "a3"
   ]
  },
  {
   "cell_type": "code",
   "execution_count": 190,
   "id": "51f9be00-126f-4c5c-be9f-877e43211715",
   "metadata": {},
   "outputs": [
    {
     "data": {
      "text/plain": [
       "array([[ 9, 10, 11],\n",
       "       [12, 13, 14],\n",
       "       [15, 16, 17]])"
      ]
     },
     "execution_count": 190,
     "metadata": {},
     "output_type": "execute_result"
    }
   ],
   "source": [
    "a3[1]"
   ]
  },
  {
   "cell_type": "code",
   "execution_count": 191,
   "id": "726a7455-f120-4ad4-a822-35d0e273de33",
   "metadata": {},
   "outputs": [
    {
     "data": {
      "text/plain": [
       "array([[[ 0,  1,  2],\n",
       "        [ 3,  4,  5],\n",
       "        [ 6,  7,  8]],\n",
       "\n",
       "       [[18, 19, 20],\n",
       "        [21, 22, 23],\n",
       "        [24, 25, 26]]])"
      ]
     },
     "execution_count": 191,
     "metadata": {},
     "output_type": "execute_result"
    }
   ],
   "source": [
    "a3[::2]"
   ]
  },
  {
   "cell_type": "code",
   "execution_count": 195,
   "id": "a01bca95-3c2b-400e-b2ea-2dd22cdc147c",
   "metadata": {},
   "outputs": [
    {
     "data": {
      "text/plain": [
       "array([3, 4, 5])"
      ]
     },
     "execution_count": 195,
     "metadata": {},
     "output_type": "execute_result"
    }
   ],
   "source": [
    "a3[0,1]"
   ]
  },
  {
   "cell_type": "code",
   "execution_count": 196,
   "id": "669a604c-89d7-4455-a914-f976101ba264",
   "metadata": {},
   "outputs": [
    {
     "data": {
      "text/plain": [
       "array([2, 5, 8])"
      ]
     },
     "execution_count": 196,
     "metadata": {},
     "output_type": "execute_result"
    }
   ],
   "source": [
    "a3[0,::,2]"
   ]
  },
  {
   "cell_type": "code",
   "execution_count": 199,
   "id": "71388fcf-906b-4bf1-bcc7-3901b98ad0a2",
   "metadata": {},
   "outputs": [
    {
     "data": {
      "text/plain": [
       "array([10, 13, 16])"
      ]
     },
     "execution_count": 199,
     "metadata": {},
     "output_type": "execute_result"
    }
   ],
   "source": [
    "a3[1,:,1]\n",
    "a3[1,::,1]"
   ]
  },
  {
   "cell_type": "code",
   "execution_count": 203,
   "id": "337aecd2-ae68-40a1-be8f-a4850d4f1268",
   "metadata": {},
   "outputs": [
    {
     "data": {
      "text/plain": [
       "array([[22, 23],\n",
       "       [25, 26]])"
      ]
     },
     "execution_count": 203,
     "metadata": {},
     "output_type": "execute_result"
    }
   ],
   "source": [
    "a3[2,1:,1:]"
   ]
  },
  {
   "cell_type": "code",
   "execution_count": 204,
   "id": "419312f4-9ef7-48f0-b4f5-5f6ad4195099",
   "metadata": {},
   "outputs": [
    {
     "data": {
      "text/plain": [
       "array([[[ 0,  1,  2],\n",
       "        [ 3,  4,  5],\n",
       "        [ 6,  7,  8]],\n",
       "\n",
       "       [[ 9, 10, 11],\n",
       "        [12, 13, 14],\n",
       "        [15, 16, 17]],\n",
       "\n",
       "       [[18, 19, 20],\n",
       "        [21, 22, 23],\n",
       "        [24, 25, 26]]])"
      ]
     },
     "execution_count": 204,
     "metadata": {},
     "output_type": "execute_result"
    }
   ],
   "source": [
    "a3"
   ]
  },
  {
   "cell_type": "code",
   "execution_count": 217,
   "id": "3d8017f5-f7e7-4987-b558-03e309b026fa",
   "metadata": {},
   "outputs": [
    {
     "data": {
      "text/plain": [
       "array([[18, 20],\n",
       "       [24, 26]])"
      ]
     },
     "execution_count": 217,
     "metadata": {},
     "output_type": "execute_result"
    }
   ],
   "source": [
    "a3[2,0::2,0::2]"
   ]
  },
  {
   "cell_type": "code",
   "execution_count": 220,
   "id": "0c2f1c43-db77-4a21-83ee-684cc7870625",
   "metadata": {},
   "outputs": [
    {
     "data": {
      "text/plain": [
       "array([[18, 19],\n",
       "       [21, 22]])"
      ]
     },
     "execution_count": 220,
     "metadata": {},
     "output_type": "execute_result"
    }
   ],
   "source": [
    "a3[2,0:2,:2]"
   ]
  },
  {
   "cell_type": "code",
   "execution_count": 225,
   "id": "0ddbfb88-e773-4984-b1f6-5e6a646d2dd7",
   "metadata": {},
   "outputs": [
    {
     "data": {
      "text/plain": [
       "array([[ 9, 11],\n",
       "       [12, 14]])"
      ]
     },
     "execution_count": 225,
     "metadata": {},
     "output_type": "execute_result"
    }
   ],
   "source": [
    "a3[1,0:2,0::2]"
   ]
  },
  {
   "cell_type": "code",
   "execution_count": 226,
   "id": "c8a1c485-db2e-4ad5-98b3-6751aa3826d2",
   "metadata": {},
   "outputs": [
    {
     "data": {
      "text/plain": [
       "array([[[ 0,  1,  2],\n",
       "        [ 3,  4,  5],\n",
       "        [ 6,  7,  8]],\n",
       "\n",
       "       [[ 9, 10, 11],\n",
       "        [12, 13, 14],\n",
       "        [15, 16, 17]],\n",
       "\n",
       "       [[18, 19, 20],\n",
       "        [21, 22, 23],\n",
       "        [24, 25, 26]]])"
      ]
     },
     "execution_count": 226,
     "metadata": {},
     "output_type": "execute_result"
    }
   ],
   "source": [
    "a3"
   ]
  },
  {
   "cell_type": "code",
   "execution_count": 238,
   "id": "47711844-07c2-49a6-861e-788998ff18a0",
   "metadata": {},
   "outputs": [
    {
     "data": {
      "text/plain": [
       "array([[ 0,  2],\n",
       "       [18, 20]])"
      ]
     },
     "execution_count": 238,
     "metadata": {},
     "output_type": "execute_result"
    }
   ],
   "source": [
    "a3[0::2,0,0::2]"
   ]
  },
  {
   "cell_type": "code",
   "execution_count": 239,
   "id": "47eb3140-12a6-4842-8901-080542cb18de",
   "metadata": {},
   "outputs": [
    {
     "data": {
      "text/plain": [
       "array([0, 2])"
      ]
     },
     "execution_count": 239,
     "metadata": {},
     "output_type": "execute_result"
    }
   ],
   "source": [
    "a3[0,0,0::2]"
   ]
  },
  {
   "cell_type": "markdown",
   "id": "4a398ac4-292b-454c-a797-3f5dcbb6bbd5",
   "metadata": {},
   "source": [
    "# iteration /for loop"
   ]
  },
  {
   "cell_type": "code",
   "execution_count": 240,
   "id": "4117666a-602b-411c-9d0f-7a356bfbde28",
   "metadata": {},
   "outputs": [
    {
     "name": "stdout",
     "output_type": "stream",
     "text": [
      "1\n",
      "2\n",
      "3\n",
      "4\n",
      "5\n",
      "6\n",
      "7\n",
      "8\n",
      "9\n"
     ]
    }
   ],
   "source": [
    "for i in a1:\n",
    "    print(i)"
   ]
  },
  {
   "cell_type": "code",
   "execution_count": 241,
   "id": "872ab74c-c38f-4366-b49d-0e02ff16d030",
   "metadata": {},
   "outputs": [
    {
     "name": "stdout",
     "output_type": "stream",
     "text": [
      "[[ 0  1  2  3]\n",
      " [ 4  5  6  7]\n",
      " [ 8  9 10 11]]\n",
      "[[ 0  1  2  3]\n",
      " [ 4  5  6  7]\n",
      " [ 8  9 10 11]]\n",
      "[[ 0  1  2  3]\n",
      " [ 4  5  6  7]\n",
      " [ 8  9 10 11]]\n"
     ]
    }
   ],
   "source": [
    "for i in a2:\n",
    "    print(a2)"
   ]
  },
  {
   "cell_type": "code",
   "execution_count": 242,
   "id": "222e8e9e-6e85-4e3f-b83d-1e539a8354b2",
   "metadata": {},
   "outputs": [
    {
     "name": "stdout",
     "output_type": "stream",
     "text": [
      "[[[ 0  1  2]\n",
      "  [ 3  4  5]\n",
      "  [ 6  7  8]]\n",
      "\n",
      " [[ 9 10 11]\n",
      "  [12 13 14]\n",
      "  [15 16 17]]\n",
      "\n",
      " [[18 19 20]\n",
      "  [21 22 23]\n",
      "  [24 25 26]]]\n",
      "[[[ 0  1  2]\n",
      "  [ 3  4  5]\n",
      "  [ 6  7  8]]\n",
      "\n",
      " [[ 9 10 11]\n",
      "  [12 13 14]\n",
      "  [15 16 17]]\n",
      "\n",
      " [[18 19 20]\n",
      "  [21 22 23]\n",
      "  [24 25 26]]]\n",
      "[[[ 0  1  2]\n",
      "  [ 3  4  5]\n",
      "  [ 6  7  8]]\n",
      "\n",
      " [[ 9 10 11]\n",
      "  [12 13 14]\n",
      "  [15 16 17]]\n",
      "\n",
      " [[18 19 20]\n",
      "  [21 22 23]\n",
      "  [24 25 26]]]\n"
     ]
    }
   ],
   "source": [
    "for i in a3:\n",
    "    print(a3)"
   ]
  },
  {
   "cell_type": "code",
   "execution_count": 261,
   "id": "9051b349-fa72-4e0f-970f-02e12dc32cec",
   "metadata": {},
   "outputs": [
    {
     "name": "stdout",
     "output_type": "stream",
     "text": [
      "0\n",
      "1\n",
      "2\n",
      "3\n",
      "4\n",
      "5\n",
      "6\n",
      "7\n",
      "8\n",
      "9\n",
      "10\n",
      "11\n"
     ]
    }
   ],
   "source": [
    "# print(a3)\n",
    "for i in a2.ravel():\n",
    "    print(i)"
   ]
  },
  {
   "cell_type": "markdown",
   "id": "71b6b96c-49cd-400b-8e97-81a83f322a2e",
   "metadata": {},
   "source": [
    "># np.nditer(variable name)\n",
    " np.nditer will convert any array into 1d"
   ]
  },
  {
   "cell_type": "code",
   "execution_count": 247,
   "id": "4f576cf3-4656-4d12-b387-fb46f334ce64",
   "metadata": {},
   "outputs": [
    {
     "name": "stdout",
     "output_type": "stream",
     "text": [
      "[[ 0  1  2  3]\n",
      " [ 4  5  6  7]\n",
      " [ 8  9 10 11]] \n",
      "\n",
      "0\n",
      "1\n",
      "2\n",
      "3\n",
      "4\n",
      "5\n",
      "6\n",
      "7\n",
      "8\n",
      "9\n",
      "10\n",
      "11\n"
     ]
    }
   ],
   "source": [
    "print(a2,\"\\n\")\n",
    "for i in np.nditer(a2):\n",
    "    print(i)"
   ]
  },
  {
   "cell_type": "markdown",
   "id": "da8282cd-d68d-4184-b1c3-086eb9c4928e",
   "metadata": {},
   "source": [
    "# reshaping"
   ]
  },
  {
   "cell_type": "markdown",
   "id": "a9b5e98e-b8b9-4c59-9a74-e5540548858a",
   "metadata": {},
   "source": [
    "># Transpose"
   ]
  },
  {
   "cell_type": "code",
   "execution_count": 250,
   "id": "d88d68ac-b5c4-4fdc-8c85-e33485014ccb",
   "metadata": {},
   "outputs": [
    {
     "name": "stdout",
     "output_type": "stream",
     "text": [
      "[[ 0  1  2  3]\n",
      " [ 4  5  6  7]\n",
      " [ 8  9 10 11]]\n",
      "\n"
     ]
    },
    {
     "data": {
      "text/plain": [
       "array([[ 0,  4,  8],\n",
       "       [ 1,  5,  9],\n",
       "       [ 2,  6, 10],\n",
       "       [ 3,  7, 11]])"
      ]
     },
     "execution_count": 250,
     "metadata": {},
     "output_type": "execute_result"
    }
   ],
   "source": [
    "print(a2)\n",
    "print()\n",
    "np.transpose(a2)"
   ]
  },
  {
   "cell_type": "code",
   "execution_count": 252,
   "id": "268c0d5b-4311-4bb8-9fcc-6070e1e7b027",
   "metadata": {},
   "outputs": [
    {
     "data": {
      "text/plain": [
       "array([[ 0,  4,  8],\n",
       "       [ 1,  5,  9],\n",
       "       [ 2,  6, 10],\n",
       "       [ 3,  7, 11]])"
      ]
     },
     "execution_count": 252,
     "metadata": {},
     "output_type": "execute_result"
    }
   ],
   "source": [
    "# alternative of transpose\n",
    "a2.T"
   ]
  },
  {
   "cell_type": "code",
   "execution_count": null,
   "id": "41ec30f9-d76f-474a-b6f9-81cc3625422a",
   "metadata": {},
   "outputs": [],
   "source": []
  },
  {
   "cell_type": "markdown",
   "id": "3be8a36a-0128-4bb6-b132-5f4507b304bb",
   "metadata": {},
   "source": [
    "># Ravel\n",
    "will convert any of 2d, 3d, 4d, 5d,6d..... array in 1D array"
   ]
  },
  {
   "cell_type": "code",
   "execution_count": 258,
   "id": "5e434238-f4c4-4017-ab27-9372520ab143",
   "metadata": {},
   "outputs": [
    {
     "name": "stdout",
     "output_type": "stream",
     "text": [
      "[[ 0  1  2  3]\n",
      " [ 4  5  6  7]\n",
      " [ 8  9 10 11]]\n",
      "\n",
      "[[[ 0  1  2]\n",
      "  [ 3  4  5]\n",
      "  [ 6  7  8]]\n",
      "\n",
      " [[ 9 10 11]\n",
      "  [12 13 14]\n",
      "  [15 16 17]]\n",
      "\n",
      " [[18 19 20]\n",
      "  [21 22 23]\n",
      "  [24 25 26]]]\n",
      "[ 0  1  2  3  4  5  6  7  8  9 10 11]\n",
      "[ 0  1  2  3  4  5  6  7  8  9 10 11 12 13 14 15 16 17 18 19 20 21 22 23\n",
      " 24 25 26]\n"
     ]
    }
   ],
   "source": [
    "print(a2)\n",
    "print()\n",
    "print(a3)\n",
    "print(a2.ravel())\n",
    "print(a3.ravel())"
   ]
  },
  {
   "cell_type": "markdown",
   "id": "e485c9bd-a7b5-4d55-bff5-6a5c082044ab",
   "metadata": {},
   "source": [
    "# stacking"
   ]
  },
  {
   "cell_type": "code",
   "execution_count": 294,
   "id": "e7e2b7d0-deec-46f3-ab25-a33850a97c19",
   "metadata": {},
   "outputs": [
    {
     "name": "stdout",
     "output_type": "stream",
     "text": [
      "[[0 1 2 3 4]\n",
      " [5 6 7 8 9]]\n",
      "[[10 11 12 13 14]\n",
      " [15 16 17 18 19]]\n",
      "\n",
      "new array:\n",
      "[[ 0  1  2  3  4]\n",
      " [ 5  6  7  8  9]\n",
      " [10 11 12 13 14]\n",
      " [15 16 17 18 19]]\n"
     ]
    }
   ],
   "source": [
    "k1=np.arange(10).reshape(2,5)\n",
    "print(k1)\n",
    "k2=np.arange(10,20).reshape(2,5)\n",
    "print(k2)\n",
    "print(\"\\nnew array:\")\n",
    "a4=np.vstack((k1,k2))\n",
    "print(a4)"
   ]
  },
  {
   "cell_type": "code",
   "execution_count": 289,
   "id": "64d7ce64-aa14-4859-84d5-5641973d5890",
   "metadata": {},
   "outputs": [
    {
     "data": {
      "text/plain": [
       "array([[ 0,  1,  2,  3,  4, 10, 11, 12, 13, 14],\n",
       "       [ 5,  6,  7,  8,  9, 15, 16, 17, 18, 19]])"
      ]
     },
     "execution_count": 289,
     "metadata": {},
     "output_type": "execute_result"
    }
   ],
   "source": [
    "np.hstack((k1,k2))"
   ]
  },
  {
   "cell_type": "markdown",
   "id": "5985604e-1000-4330-86ad-cebf31563af1",
   "metadata": {},
   "source": [
    "# spliting\n",
    "\n",
    "np.vsplit(variable,number of division/how much split you want )"
   ]
  },
  {
   "cell_type": "code",
   "execution_count": 300,
   "id": "980375ab-6223-4321-a2e6-4fefe650940f",
   "metadata": {},
   "outputs": [
    {
     "data": {
      "text/plain": [
       "array([[ 0,  1,  2,  3,  4],\n",
       "       [ 5,  6,  7,  8,  9],\n",
       "       [10, 11, 12, 13, 14],\n",
       "       [15, 16, 17, 18, 19]])"
      ]
     },
     "execution_count": 300,
     "metadata": {},
     "output_type": "execute_result"
    }
   ],
   "source": [
    "a5=np.arange(20).reshape(4,5)\n",
    "a5"
   ]
  },
  {
   "cell_type": "code",
   "execution_count": 302,
   "id": "df5e3d3a-ee16-48f6-8e16-0b94d88832e2",
   "metadata": {},
   "outputs": [
    {
     "data": {
      "text/plain": [
       "[array([[0, 1, 2, 3, 4],\n",
       "        [5, 6, 7, 8, 9]]),\n",
       " array([[10, 11, 12, 13, 14],\n",
       "        [15, 16, 17, 18, 19]])]"
      ]
     },
     "execution_count": 302,
     "metadata": {},
     "output_type": "execute_result"
    }
   ],
   "source": [
    "np.vsplit(a5,2)"
   ]
  },
  {
   "cell_type": "code",
   "execution_count": 306,
   "id": "76748626-75fb-4c53-8d1e-b78901211f99",
   "metadata": {},
   "outputs": [
    {
     "data": {
      "text/plain": [
       "[array([[0, 1, 2, 3, 4]]),\n",
       " array([[5, 6, 7, 8, 9]]),\n",
       " array([[10, 11, 12, 13, 14]]),\n",
       " array([[15, 16, 17, 18, 19]])]"
      ]
     },
     "execution_count": 306,
     "metadata": {},
     "output_type": "execute_result"
    }
   ],
   "source": [
    "np.vsplit(a5,4)"
   ]
  },
  {
   "cell_type": "markdown",
   "id": "038d78ef-dcf5-4b6f-931b-746ecf32554d",
   "metadata": {},
   "source": [
    "># hsplit - should be equally divide"
   ]
  },
  {
   "cell_type": "code",
   "execution_count": 312,
   "id": "e3720346-57d7-4c49-8454-9271a0a4bde2",
   "metadata": {},
   "outputs": [
    {
     "data": {
      "text/plain": [
       "[array([[ 0],\n",
       "        [ 5],\n",
       "        [10],\n",
       "        [15]]),\n",
       " array([[ 1],\n",
       "        [ 6],\n",
       "        [11],\n",
       "        [16]]),\n",
       " array([[ 2],\n",
       "        [ 7],\n",
       "        [12],\n",
       "        [17]]),\n",
       " array([[ 3],\n",
       "        [ 8],\n",
       "        [13],\n",
       "        [18]]),\n",
       " array([[ 4],\n",
       "        [ 9],\n",
       "        [14],\n",
       "        [19]])]"
      ]
     },
     "execution_count": 312,
     "metadata": {},
     "output_type": "execute_result"
    }
   ],
   "source": [
    "np.hsplit(a5,5)"
   ]
  },
  {
   "cell_type": "code",
   "execution_count": null,
   "id": "df32fea3-f85f-44d1-80cd-48199abe7a15",
   "metadata": {},
   "outputs": [],
   "source": []
  },
  {
   "cell_type": "code",
   "execution_count": 318,
   "id": "467f2989-f912-4692-8e26-d9d7c411aeee",
   "metadata": {},
   "outputs": [],
   "source": [
    "import numpy as np"
   ]
  },
  {
   "cell_type": "markdown",
   "id": "a5bbc077-99be-4de4-9acf-90e14856d462",
   "metadata": {},
   "source": [
    "# Advance Indexing"
   ]
  },
  {
   "cell_type": "code",
   "execution_count": 320,
   "id": "06d1dbd0-e9ce-41bf-8fcc-46c06b532abc",
   "metadata": {},
   "outputs": [
    {
     "data": {
      "text/plain": [
       "array([[ 0,  1,  2],\n",
       "       [ 3,  4,  5],\n",
       "       [ 6,  7,  8],\n",
       "       [ 9, 10, 11]])"
      ]
     },
     "execution_count": 320,
     "metadata": {},
     "output_type": "execute_result"
    }
   ],
   "source": [
    "# normal indexing and slicing\n",
    "a=np.arange(12).reshape(4,3)\n",
    "a"
   ]
  },
  {
   "cell_type": "code",
   "execution_count": 321,
   "id": "107219b8-17a3-4f68-810d-25df4f107e40",
   "metadata": {},
   "outputs": [
    {
     "data": {
      "text/plain": [
       "5"
      ]
     },
     "execution_count": 321,
     "metadata": {},
     "output_type": "execute_result"
    }
   ],
   "source": [
    "a[1,2]"
   ]
  },
  {
   "cell_type": "code",
   "execution_count": 323,
   "id": "f0d05300-4458-47fc-8cca-37dc2ad1b67f",
   "metadata": {},
   "outputs": [
    {
     "data": {
      "text/plain": [
       "array([[4, 5],\n",
       "       [7, 8]])"
      ]
     },
     "execution_count": 323,
     "metadata": {},
     "output_type": "execute_result"
    }
   ],
   "source": [
    "a[1:3,1:3]"
   ]
  },
  {
   "cell_type": "markdown",
   "id": "66b7465e-ab67-4f22-809b-deb45406e966",
   "metadata": {},
   "source": [
    "># Fancy indexing"
   ]
  },
  {
   "cell_type": "code",
   "execution_count": 325,
   "id": "25c49a57-cdd1-44f6-b32b-f57a4a2e7a13",
   "metadata": {},
   "outputs": [
    {
     "data": {
      "text/plain": [
       "array([[ 0,  1,  2],\n",
       "       [ 3,  4,  5],\n",
       "       [ 6,  7,  8],\n",
       "       [ 9, 10, 11]])"
      ]
     },
     "execution_count": 325,
     "metadata": {},
     "output_type": "execute_result"
    }
   ],
   "source": [
    "a"
   ]
  },
  {
   "cell_type": "code",
   "execution_count": 333,
   "id": "2efb8f97-947d-48d2-99fb-e1455380e040",
   "metadata": {},
   "outputs": [
    {
     "name": "stdout",
     "output_type": "stream",
     "text": [
      "[[0 1 2]\n",
      " [6 7 8]]\n",
      "[[0 1 2]\n",
      " [6 7 8]]\n"
     ]
    }
   ],
   "source": [
    "# normal indexing # give 1st and 3rd row\n",
    "print(a[0::2])\n",
    "print(a[::2])"
   ]
  },
  {
   "cell_type": "code",
   "execution_count": 336,
   "id": "6bba2ea4-a245-41b1-9a04-eb38d1d9f794",
   "metadata": {},
   "outputs": [
    {
     "data": {
      "text/plain": [
       "array([[ 0,  1,  2,  3],\n",
       "       [ 4,  5,  6,  7],\n",
       "       [ 8,  9, 10, 11],\n",
       "       [12, 13, 14, 15],\n",
       "       [16, 17, 18, 19],\n",
       "       [20, 21, 22, 23]])"
      ]
     },
     "execution_count": 336,
     "metadata": {},
     "output_type": "execute_result"
    }
   ],
   "source": [
    "# Fancy indexing\n",
    "a=np.arange(24).reshape(6,4)\n",
    "a"
   ]
  },
  {
   "cell_type": "code",
   "execution_count": 337,
   "id": "1d923b27-7f76-4a15-8702-d856ce35cf5a",
   "metadata": {},
   "outputs": [
    {
     "data": {
      "text/plain": [
       "array([[ 0,  1,  2,  3],\n",
       "       [ 8,  9, 10, 11],\n",
       "       [12, 13, 14, 15]])"
      ]
     },
     "execution_count": 337,
     "metadata": {},
     "output_type": "execute_result"
    }
   ],
   "source": [
    "a[[0,2,3]]"
   ]
  },
  {
   "cell_type": "code",
   "execution_count": 338,
   "id": "afb82e8b-0bfb-4faf-a360-9ac51865395b",
   "metadata": {},
   "outputs": [
    {
     "data": {
      "text/plain": [
       "array([[ 0,  1,  2,  3],\n",
       "       [ 8,  9, 10, 11],\n",
       "       [12, 13, 14, 15],\n",
       "       [20, 21, 22, 23]])"
      ]
     },
     "execution_count": 338,
     "metadata": {},
     "output_type": "execute_result"
    }
   ],
   "source": [
    "# give 1st ,3rd, 4th & last row\n",
    "\n",
    "a[[0,2,3,5]]"
   ]
  },
  {
   "cell_type": "code",
   "execution_count": 339,
   "id": "030db194-7890-420c-9457-5e99b5266757",
   "metadata": {},
   "outputs": [
    {
     "data": {
      "text/plain": [
       "array([[ 0,  2,  3],\n",
       "       [ 4,  6,  7],\n",
       "       [ 8, 10, 11],\n",
       "       [12, 14, 15],\n",
       "       [16, 18, 19],\n",
       "       [20, 22, 23]])"
      ]
     },
     "execution_count": 339,
     "metadata": {},
     "output_type": "execute_result"
    }
   ],
   "source": [
    "# give 1st ,3rd & 4th column\n",
    "a[:,[0,2,3]]"
   ]
  },
  {
   "cell_type": "markdown",
   "id": "851ffbe2-07f1-4054-941d-1a4db69a9066",
   "metadata": {},
   "source": [
    "# Boolean indexing"
   ]
  },
  {
   "cell_type": "code",
   "execution_count": 341,
   "id": "65919071-04e8-47c4-ba14-bef7aff2af5b",
   "metadata": {},
   "outputs": [
    {
     "data": {
      "text/plain": [
       "array([[44, 38, 94,  6],\n",
       "       [26, 89, 68, 49],\n",
       "       [44, 13, 41, 35],\n",
       "       [85, 59, 28,  1],\n",
       "       [68, 22, 18, 36],\n",
       "       [60,  1, 77, 67]])"
      ]
     },
     "execution_count": 341,
     "metadata": {},
     "output_type": "execute_result"
    }
   ],
   "source": [
    "a=np.random.randint(1,100,24).reshape(6,4)\n",
    "a"
   ]
  },
  {
   "cell_type": "code",
   "execution_count": 346,
   "id": "f1a3d583-302c-477a-80c1-2fa27025dd4e",
   "metadata": {},
   "outputs": [
    {
     "name": "stdout",
     "output_type": "stream",
     "text": [
      "[[False False  True False]\n",
      " [False  True  True False]\n",
      " [False False False False]\n",
      " [ True  True False False]\n",
      " [ True False False False]\n",
      " [ True False  True  True]]\n",
      "\n",
      "Greater than 50 >  [94 89 68 85 59 68 60 77 67]\n"
     ]
    }
   ],
   "source": [
    "# find the all number greater than 50\n",
    "print(a>50) # will give result in boolean value if need value instead of boolean data\n",
    "print()\n",
    "print(\"Greater than 50 > \",a[a>50]) # use your condition inside the list"
   ]
  },
  {
   "cell_type": "code",
   "execution_count": 350,
   "id": "9a3397ab-fc75-4d1d-8d98-6aa601918de3",
   "metadata": {},
   "outputs": [
    {
     "name": "stdout",
     "output_type": "stream",
     "text": [
      "even number [44 38 94  6 26 68 44 28 68 22 18 36 60]\n"
     ]
    }
   ],
   "source": [
    "print(\"even number\",a[a%2==0])"
   ]
  },
  {
   "cell_type": "code",
   "execution_count": 351,
   "id": "23bac94e-c462-44d1-8b80-d4e3ec2c3ed7",
   "metadata": {},
   "outputs": [
    {
     "name": "stdout",
     "output_type": "stream",
     "text": [
      "odd number [89 49 13 41 35 85 59  1  1 77 67]\n"
     ]
    }
   ],
   "source": [
    "print(\"odd number\",a[a%2!=0])"
   ]
  },
  {
   "cell_type": "code",
   "execution_count": 364,
   "id": "e1ca260b-2c91-4656-aef3-09319b85d3e7",
   "metadata": {},
   "outputs": [
    {
     "name": "stdout",
     "output_type": "stream",
     "text": [
      "[[False False  True False]\n",
      " [False False  True False]\n",
      " [False False False False]\n",
      " [False False False False]\n",
      " [ True False False False]\n",
      " [ True False False False]]\n",
      "\n",
      "[94 68 68 60]\n"
     ]
    }
   ],
   "source": [
    "# find the all number in array greater than 50 and even number\n",
    "print((a>50) & (a%2==0))\n",
    "print()\n",
    "print(a[(a>50) & (a%2==0)])\n"
   ]
  },
  {
   "cell_type": "code",
   "execution_count": 367,
   "id": "d9ac7ace-a710-4108-87ed-3d0f53c882dd",
   "metadata": {},
   "outputs": [
    {
     "name": "stdout",
     "output_type": "stream",
     "text": [
      "[[False False False False]\n",
      " [False  True False False]\n",
      " [False False False False]\n",
      " [ True  True False False]\n",
      " [False False False False]\n",
      " [False False  True  True]]\n",
      "\n",
      "[89 85 59 77 67]\n"
     ]
    }
   ],
   "source": [
    "# find the all number in array greater than 50 and odd number\n",
    "print((a>50) & (a%2!=0))\n",
    "print()\n",
    "print(a[(a>50) & (a%2!=0)])\n"
   ]
  },
  {
   "cell_type": "code",
   "execution_count": 366,
   "id": "fb5869e0-cfa5-4fcf-88e4-5ad6e4db88d6",
   "metadata": {},
   "outputs": [
    {
     "data": {
      "text/plain": [
       "array([49, 35, 28, 77])"
      ]
     },
     "execution_count": 366,
     "metadata": {},
     "output_type": "execute_result"
    }
   ],
   "source": [
    "# find the number divisible by 7\n",
    "a[a%7==0]"
   ]
  },
  {
   "cell_type": "markdown",
   "id": "2fa4a96a-73d3-43ea-b58e-60a529db7b3f",
   "metadata": {},
   "source": [
    "# Brodcasting\n",
    "\n",
    "dimension of array should be equal"
   ]
  },
  {
   "cell_type": "code",
   "execution_count": 370,
   "id": "f660b794-ff17-499c-8d95-76dd03994ff0",
   "metadata": {},
   "outputs": [
    {
     "name": "stdout",
     "output_type": "stream",
     "text": [
      "[[ 0  1  2]\n",
      " [ 3  4  5]\n",
      " [ 6  7  8]\n",
      " [ 9 10 11]]\n",
      "[0 1 2]\n",
      "\n",
      "[[ 0  2  4]\n",
      " [ 3  5  7]\n",
      " [ 6  8 10]\n",
      " [ 9 11 13]]\n"
     ]
    }
   ],
   "source": [
    "a=np.arange(12).reshape(4,3)\n",
    "b=np.arange(3)\n",
    "print(a)\n",
    "print(b)\n",
    "print()\n",
    "print(a+b)"
   ]
  },
  {
   "cell_type": "code",
   "execution_count": 371,
   "id": "80d91168-24f5-41ce-844e-f529ae1d58fa",
   "metadata": {},
   "outputs": [
    {
     "name": "stdout",
     "output_type": "stream",
     "text": [
      "[[ 0  1  2  3]\n",
      " [ 4  5  6  7]\n",
      " [ 8  9 10 11]]\n",
      "[0 1 2]\n",
      "\n"
     ]
    },
    {
     "ename": "ValueError",
     "evalue": "operands could not be broadcast together with shapes (3,4) (3,) ",
     "output_type": "error",
     "traceback": [
      "\u001b[1;31m---------------------------------------------------------------------------\u001b[0m",
      "\u001b[1;31mValueError\u001b[0m                                Traceback (most recent call last)",
      "Cell \u001b[1;32mIn[371], line 6\u001b[0m\n\u001b[0;32m      4\u001b[0m \u001b[38;5;28mprint\u001b[39m(b)\n\u001b[0;32m      5\u001b[0m \u001b[38;5;28mprint\u001b[39m()\n\u001b[1;32m----> 6\u001b[0m \u001b[38;5;28mprint\u001b[39m(a\u001b[38;5;241m+\u001b[39mb)\n",
      "\u001b[1;31mValueError\u001b[0m: operands could not be broadcast together with shapes (3,4) (3,) "
     ]
    }
   ],
   "source": [
    "a=np.arange(12).reshape(3,4)\n",
    "b=np.arange(3)\n",
    "print(a)\n",
    "print(b)\n",
    "print()\n",
    "print(a+b)"
   ]
  },
  {
   "cell_type": "code",
   "execution_count": 372,
   "id": "e2c523ba-9e36-4b9c-ab69-7f8ee8a1ce81",
   "metadata": {},
   "outputs": [
    {
     "name": "stdout",
     "output_type": "stream",
     "text": [
      "[[0 1 2]]\n",
      "[[0]\n",
      " [1]\n",
      " [2]]\n",
      "\n",
      "[[0 1 2]\n",
      " [1 2 3]\n",
      " [2 3 4]]\n"
     ]
    }
   ],
   "source": [
    "a=np.arange(3).reshape(1,3)\n",
    "b=np.arange(3).reshape(3,1)\n",
    "print(a)\n",
    "print(b)\n",
    "print()\n",
    "print(a+b)"
   ]
  },
  {
   "cell_type": "code",
   "execution_count": 374,
   "id": "996d680c-8284-4a65-9a17-616dca844b14",
   "metadata": {},
   "outputs": [
    {
     "name": "stdout",
     "output_type": "stream",
     "text": [
      "[[0 1 2]]\n",
      "[[0]\n",
      " [1]\n",
      " [2]\n",
      " [3]]\n",
      "\n",
      "[[0 1 2]\n",
      " [1 2 3]\n",
      " [2 3 4]\n",
      " [3 4 5]]\n"
     ]
    }
   ],
   "source": [
    "a=np.arange(3).reshape(1,3)\n",
    "b=np.arange(4).reshape(4,1)\n",
    "print(a)\n",
    "print(b)\n",
    "print()\n",
    "print(a+b)"
   ]
  },
  {
   "cell_type": "code",
   "execution_count": 375,
   "id": "4070db81-5d0d-449d-aa3b-21ab625e3e9a",
   "metadata": {},
   "outputs": [
    {
     "name": "stdout",
     "output_type": "stream",
     "text": [
      "1\n",
      "[[0 1]\n",
      " [2 3]]\n",
      "\n",
      "[[1 2]\n",
      " [3 4]]\n"
     ]
    }
   ],
   "source": [
    "a=np.array(1)\n",
    "b=np.arange(4).reshape(2,2)\n",
    "print(a)\n",
    "print(b)\n",
    "print()\n",
    "print(a+b)"
   ]
  },
  {
   "cell_type": "code",
   "execution_count": 378,
   "id": "e360fae3-7f07-4a3f-9b98-d887ffeffa20",
   "metadata": {},
   "outputs": [
    {
     "name": "stdout",
     "output_type": "stream",
     "text": [
      "[[ 0  1  2  3]\n",
      " [ 4  5  6  7]\n",
      " [ 8  9 10 11]]\n",
      "[[ 0  1  2]\n",
      " [ 3  4  5]\n",
      " [ 6  7  8]\n",
      " [ 9 10 11]]\n",
      "\n"
     ]
    },
    {
     "ename": "ValueError",
     "evalue": "operands could not be broadcast together with shapes (3,4) (4,3) ",
     "output_type": "error",
     "traceback": [
      "\u001b[1;31m---------------------------------------------------------------------------\u001b[0m",
      "\u001b[1;31mValueError\u001b[0m                                Traceback (most recent call last)",
      "Cell \u001b[1;32mIn[378], line 7\u001b[0m\n\u001b[0;32m      5\u001b[0m \u001b[38;5;28mprint\u001b[39m(b)\n\u001b[0;32m      6\u001b[0m \u001b[38;5;28mprint\u001b[39m()\n\u001b[1;32m----> 7\u001b[0m \u001b[38;5;28mprint\u001b[39m(a\u001b[38;5;241m+\u001b[39mb)\n",
      "\u001b[1;31mValueError\u001b[0m: operands could not be broadcast together with shapes (3,4) (4,3) "
     ]
    }
   ],
   "source": [
    "# give error as dimension don't have 1 to strech the value and dimension are not same.\n",
    "a=np.arange(12).reshape(3,4)\n",
    "b=np.arange(12).reshape(4,3)\n",
    "print(a)\n",
    "print(b)\n",
    "print()\n",
    "print(a+b)\n"
   ]
  },
  {
   "cell_type": "code",
   "execution_count": 377,
   "id": "d30739b1-bd28-476f-8ac4-b8bded124f3d",
   "metadata": {},
   "outputs": [
    {
     "name": "stdout",
     "output_type": "stream",
     "text": [
      "[[ 0  1  2  3]\n",
      " [ 4  5  6  7]\n",
      " [ 8  9 10 11]\n",
      " [12 13 14 15]]\n",
      "[[0 1]\n",
      " [2 3]]\n",
      "\n"
     ]
    },
    {
     "ename": "ValueError",
     "evalue": "operands could not be broadcast together with shapes (4,4) (2,2) ",
     "output_type": "error",
     "traceback": [
      "\u001b[1;31m---------------------------------------------------------------------------\u001b[0m",
      "\u001b[1;31mValueError\u001b[0m                                Traceback (most recent call last)",
      "Cell \u001b[1;32mIn[377], line 6\u001b[0m\n\u001b[0;32m      4\u001b[0m \u001b[38;5;28mprint\u001b[39m(b)\n\u001b[0;32m      5\u001b[0m \u001b[38;5;28mprint\u001b[39m()\n\u001b[1;32m----> 6\u001b[0m \u001b[38;5;28mprint\u001b[39m(a\u001b[38;5;241m+\u001b[39mb)\n",
      "\u001b[1;31mValueError\u001b[0m: operands could not be broadcast together with shapes (4,4) (2,2) "
     ]
    }
   ],
   "source": [
    "a=np.arange(16).reshape(4,4)\n",
    "b=np.arange(4).reshape(2,2)\n",
    "print(a)\n",
    "print(b)\n",
    "print()\n",
    "print(a+b)\n"
   ]
  },
  {
   "cell_type": "markdown",
   "id": "6fe3ba96-3616-4c14-855d-cfd17c4f31fa",
   "metadata": {},
   "source": [
    "# Working with mathmatic formula"
   ]
  },
  {
   "cell_type": "code",
   "execution_count": 382,
   "id": "192d75b0-dec8-43b7-97ff-5db8765e56c3",
   "metadata": {},
   "outputs": [
    {
     "name": "stdout",
     "output_type": "stream",
     "text": [
      "[0 1 2 3 4 5 6 7 8 9]\n"
     ]
    },
    {
     "data": {
      "text/plain": [
       "array([0.5       , 0.73105858, 0.88079708, 0.95257413, 0.98201379,\n",
       "       0.99330715, 0.99752738, 0.99908895, 0.99966465, 0.99987661])"
      ]
     },
     "execution_count": 382,
     "metadata": {},
     "output_type": "execute_result"
    }
   ],
   "source": [
    "#sigmoid # will give value between 0 to 1.\n",
    "a=np.arange(10)\n",
    "print(a)\n",
    "\n",
    "def sigmoid(array):\n",
    "    return 1/(1+np.exp(-(array)))\n",
    "\n",
    "sigmoid(a)"
   ]
  },
  {
   "cell_type": "code",
   "execution_count": 394,
   "id": "fab90524-4f0e-4f1d-be70-142070a2ef07",
   "metadata": {},
   "outputs": [
    {
     "name": "stdout",
     "output_type": "stream",
     "text": [
      "[16 27 22 30  2 13 37  1 42  6 40 13 24 21 34 22  9 20 41 34 24  3 24 12\n",
      " 43]\n",
      "[11  4 37 17  8  3 32 17 49 20  2  7  3 46 10  8 42 27  1 45 39  5 42  1\n",
      " 12]\n"
     ]
    }
   ],
   "source": [
    "# mean squared error\n",
    "\n",
    "actual=np.random.randint(1,50,25)\n",
    "predicted=np.random.randint(1,50,25)\n",
    "print(actual)\n",
    "print(predicted)"
   ]
  },
  {
   "cell_type": "code",
   "execution_count": 400,
   "id": "b113888e-f3cf-407b-b92a-76c0a980f2b7",
   "metadata": {},
   "outputs": [
    {
     "data": {
      "text/plain": [
       "376.88"
      ]
     },
     "execution_count": 400,
     "metadata": {},
     "output_type": "execute_result"
    }
   ],
   "source": [
    "def MSE(actual,predicted):\n",
    "    return np.mean((actual-predicted)**2) # mean give avrage ( actual - predicted will give diffrence) & **2 will calcualte sqaure root of diffrence value.\n",
    "\n",
    "MSE(actual,predicted)"
   ]
  },
  {
   "cell_type": "code",
   "execution_count": 397,
   "id": "780d35b2-2543-4cde-8164-46f540104770",
   "metadata": {},
   "outputs": [
    {
     "data": {
      "text/plain": [
       "376.88"
      ]
     },
     "execution_count": 397,
     "metadata": {},
     "output_type": "execute_result"
    }
   ],
   "source": [
    "np.mean((actual-predicted)**2) # mean give avrage ( actual - predicted will give diffrence) & **2 will calcualte sqaure root of diffrence"
   ]
  },
  {
   "cell_type": "markdown",
   "id": "f1f151b3-4ce0-4f87-a0b4-a6a9c7083d31",
   "metadata": {},
   "source": [
    "# working with missing values - np.nan"
   ]
  },
  {
   "cell_type": "code",
   "execution_count": 45,
   "id": "0bdd9a68-c928-4781-856c-be0e2cfb68c1",
   "metadata": {},
   "outputs": [
    {
     "data": {
      "text/plain": [
       "array([ 1.,  2.,  3.,  4.,  5., nan,  6.])"
      ]
     },
     "execution_count": 45,
     "metadata": {},
     "output_type": "execute_result"
    }
   ],
   "source": [
    "a=np.array([1,2,3,4,5,np.nan,6])\n",
    "a"
   ]
  },
  {
   "cell_type": "code",
   "execution_count": 46,
   "id": "700829c6-15ea-4855-8400-e9258a0dbab9",
   "metadata": {},
   "outputs": [
    {
     "data": {
      "text/plain": [
       "array([False, False, False, False, False,  True, False])"
      ]
     },
     "execution_count": 46,
     "metadata": {},
     "output_type": "execute_result"
    }
   ],
   "source": [
    "np.isnan(a) # will give True False value."
   ]
  },
  {
   "cell_type": "code",
   "execution_count": 50,
   "id": "a4500a18-944e-42e6-b457-050df18e1605",
   "metadata": {},
   "outputs": [
    {
     "data": {
      "text/plain": [
       "array([nan])"
      ]
     },
     "execution_count": 50,
     "metadata": {},
     "output_type": "execute_result"
    }
   ],
   "source": [
    "a[np.isnan(a)] # will give nan value"
   ]
  },
  {
   "cell_type": "code",
   "execution_count": 51,
   "id": "b0d5d352-f14d-4fbf-997d-82093843e68d",
   "metadata": {},
   "outputs": [
    {
     "data": {
      "text/plain": [
       "array([1., 2., 3., 4., 5., 6.])"
      ]
     },
     "execution_count": 51,
     "metadata": {},
     "output_type": "execute_result"
    }
   ],
   "source": [
    "a[~np.isnan(a)]  # ~ work as bitwise not operator"
   ]
  },
  {
   "cell_type": "markdown",
   "id": "4a152917-9a28-4a13-a3df-ef616fd69aea",
   "metadata": {},
   "source": [
    "# Plotting Graph\n",
    "\n",
    "desmos used for graph visulisation"
   ]
  },
  {
   "cell_type": "code",
   "execution_count": 4,
   "id": "52c73889-5bc0-435b-8eb3-b85d0ce4a559",
   "metadata": {},
   "outputs": [
    {
     "data": {
      "text/plain": [
       "array([-10.        ,  -9.59183673,  -9.18367347,  -8.7755102 ,\n",
       "        -8.36734694,  -7.95918367,  -7.55102041,  -7.14285714,\n",
       "        -6.73469388,  -6.32653061,  -5.91836735,  -5.51020408,\n",
       "        -5.10204082,  -4.69387755,  -4.28571429,  -3.87755102,\n",
       "        -3.46938776,  -3.06122449,  -2.65306122,  -2.24489796,\n",
       "        -1.83673469,  -1.42857143,  -1.02040816,  -0.6122449 ,\n",
       "        -0.20408163,   0.20408163,   0.6122449 ,   1.02040816,\n",
       "         1.42857143,   1.83673469,   2.24489796,   2.65306122,\n",
       "         3.06122449,   3.46938776,   3.87755102,   4.28571429,\n",
       "         4.69387755,   5.10204082,   5.51020408,   5.91836735,\n",
       "         6.32653061,   6.73469388,   7.14285714,   7.55102041,\n",
       "         7.95918367,   8.36734694,   8.7755102 ,   9.18367347,\n",
       "         9.59183673,  10.        ])"
      ]
     },
     "execution_count": 4,
     "metadata": {},
     "output_type": "execute_result"
    }
   ],
   "source": [
    "# plotting a 2D plot\n",
    "# x = y\n",
    "x=np.linspace(-10,10,50)\n",
    "y=x\n",
    "x"
   ]
  },
  {
   "cell_type": "markdown",
   "id": "f1533d6e-a5e5-4aa3-9db4-b9db8d1c1324",
   "metadata": {},
   "source": [
    "# create plot"
   ]
  },
  {
   "cell_type": "code",
   "execution_count": 5,
   "id": "7338854d-d926-4844-97f7-8bf64ca7b7f8",
   "metadata": {},
   "outputs": [
    {
     "data": {
      "text/plain": [
       "[<matplotlib.lines.Line2D at 0x25bb5b84290>]"
      ]
     },
     "execution_count": 5,
     "metadata": {},
     "output_type": "execute_result"
    },
    {
     "data": {
      "image/png": "[encoded data removed]",
      "text/plain": [
       "<Figure size 640x480 with 1 Axes>"
      ]
     },
     "metadata": {},
     "output_type": "display_data"
    }
   ],
   "source": [
    "import matplotlib.pyplot as plt\n",
    "plt.plot(x,y)"
   ]
  },
  {
   "cell_type": "code",
   "execution_count": 6,
   "id": "eeeccc7c-9661-443b-94b1-aa43ca1d1c30",
   "metadata": {},
   "outputs": [
    {
     "data": {
      "text/plain": [
       "[<matplotlib.lines.Line2D at 0x25bb63d0150>]"
      ]
     },
     "execution_count": 6,
     "metadata": {},
     "output_type": "execute_result"
    },
    {
     "data": {
      "image/png": "[encoded data removed]",
      "text/plain": [
       "<Figure size 640x480 with 1 Axes>"
      ]
     },
     "metadata": {},
     "output_type": "display_data"
    }
   ],
   "source": [
    "# y=x^2 # ^ - square\n",
    "x=np.linspace(-10,10,50)\n",
    "y=x**2 # square\n",
    "plt.plot(x,y)"
   ]
  },
  {
   "cell_type": "code",
   "execution_count": 7,
   "id": "c50d1da1-8801-428d-bdec-c6ce85f5c204",
   "metadata": {},
   "outputs": [
    {
     "data": {
      "text/plain": [
       "[<matplotlib.lines.Line2D at 0x25bb646b650>]"
      ]
     },
     "execution_count": 7,
     "metadata": {},
     "output_type": "execute_result"
    },
    {
     "data": {
      "image/png": "[encoded data removed]",
      "text/plain": [
       "<Figure size 640x480 with 1 Axes>"
      ]
     },
     "metadata": {},
     "output_type": "display_data"
    }
   ],
   "source": [
    "# y=sin(x) \n",
    "x=np.linspace(-10,10,50)\n",
    "y=np.sin(x) \n",
    "plt.plot(x,y)"
   ]
  },
  {
   "cell_type": "code",
   "execution_count": 11,
   "id": "e5c4f343-7543-42a0-ac98-4f510c56b849",
   "metadata": {},
   "outputs": [
    {
     "name": "stderr",
     "output_type": "stream",
     "text": [
      "C:\\Users\\DELL\\AppData\\Local\\Temp\\ipykernel_1888\\3071433019.py:3: RuntimeWarning: invalid value encountered in log\n",
      "  y=np.log(x)\n"
     ]
    },
    {
     "data": {
      "text/plain": [
       "[<matplotlib.lines.Line2D at 0x25bb5c36cd0>]"
      ]
     },
     "execution_count": 11,
     "metadata": {},
     "output_type": "execute_result"
    },
    {
     "data": {
      "image/png": "[encoded data removed]",
      "text/plain": [
       "<Figure size 640x480 with 1 Axes>"
      ]
     },
     "metadata": {},
     "output_type": "display_data"
    }
   ],
   "source": [
    "# y=log(x) \n",
    "x=np.linspace(-10,10,100)\n",
    "y=np.log(x) \n",
    "plt.plot(x,y)"
   ]
  },
  {
   "cell_type": "code",
   "execution_count": 14,
   "id": "5490cbb5-4680-40a9-b2a9-7b4e07774bc8",
   "metadata": {},
   "outputs": [
    {
     "name": "stderr",
     "output_type": "stream",
     "text": [
      "C:\\Users\\DELL\\AppData\\Local\\Temp\\ipykernel_1888\\892781395.py:3: RuntimeWarning: invalid value encountered in log\n",
      "  y=x*np.log(x)\n"
     ]
    },
    {
     "data": {
      "text/plain": [
       "[<matplotlib.lines.Line2D at 0x25bb64e1bd0>]"
      ]
     },
     "execution_count": 14,
     "metadata": {},
     "output_type": "execute_result"
    },
    {
     "data": {
      "image/png": "[encoded data removed]",
      "text/plain": [
       "<Figure size 640x480 with 1 Axes>"
      ]
     },
     "metadata": {},
     "output_type": "display_data"
    }
   ],
   "source": [
    "# y=log(x) \n",
    "x=np.linspace(-10,10,50)\n",
    "y=x*np.log(x) \n",
    "plt.plot(x,y)"
   ]
  },
  {
   "cell_type": "code",
   "execution_count": 425,
   "id": "34270b2c-494a-4656-a994-cefe6467ba32",
   "metadata": {},
   "outputs": [
    {
     "data": {
      "text/plain": [
       "[<matplotlib.lines.Line2D at 0x1d72ee68c50>]"
      ]
     },
     "execution_count": 425,
     "metadata": {},
     "output_type": "execute_result"
    },
    {
     "data": {
      "image/png": "[encoded data removed]",
      "text/plain": [
       "<Figure size 640x480 with 1 Axes>"
      ]
     },
     "metadata": {},
     "output_type": "display_data"
    }
   ],
   "source": [
    "# y=cos(x) \n",
    "x=np.linspace(-10,10,50)\n",
    "y=np.cos(x) \n",
    "plt.plot(x,y)"
   ]
  },
  {
   "cell_type": "code",
   "execution_count": 13,
   "id": "6ba65314-accd-4b96-88f6-e19196991df2",
   "metadata": {},
   "outputs": [
    {
     "data": {
      "text/plain": [
       "[<matplotlib.lines.Line2D at 0x25bb67b6850>]"
      ]
     },
     "execution_count": 13,
     "metadata": {},
     "output_type": "execute_result"
    },
    {
     "data": {
      "image/png": "[encoded data removed]",
      "text/plain": [
       "<Figure size 640x480 with 1 Axes>"
      ]
     },
     "metadata": {},
     "output_type": "display_data"
    }
   ],
   "source": [
    "# y=tan(x) \n",
    "x=np.linspace(-10,10,20)\n",
    "y=np.tan(x) \n",
    "plt.plot(x,y)"
   ]
  },
  {
   "cell_type": "code",
   "execution_count": 16,
   "id": "defe0cbf-a8ec-438d-a624-e9fd2450db23",
   "metadata": {},
   "outputs": [
    {
     "data": {
      "text/plain": [
       "[<matplotlib.lines.Line2D at 0x25bb65908d0>]"
      ]
     },
     "execution_count": 16,
     "metadata": {},
     "output_type": "execute_result"
    },
    {
     "data": {
      "image/png": "[encoded data removed]",
      "text/plain": [
       "<Figure size 640x480 with 1 Axes>"
      ]
     },
     "metadata": {},
     "output_type": "display_data"
    }
   ],
   "source": [
    "# sigmoid plot\n",
    "x=np.linspace(-10,10,20)\n",
    "y=1/(1+np.exp(-x))\n",
    "plt.plot(x,y)"
   ]
  },
  {
   "cell_type": "markdown",
   "id": "07bccfb6-128f-4b19-94d6-16aa9acffe54",
   "metadata": {},
   "source": [
    "# plotting a scatter plot"
   ]
  },
  {
   "cell_type": "code",
   "execution_count": 21,
   "id": "fb873fde-f23a-4ca8-b382-e0b6bea6b639",
   "metadata": {},
   "outputs": [],
   "source": [
    "import numpy as np\n",
    "import matplotlib.pyplot as plt\n"
   ]
  },
  {
   "cell_type": "code",
   "execution_count": 19,
   "id": "3c6e15c1-a1c4-4d09-84ab-89d4b2678241",
   "metadata": {},
   "outputs": [
    {
     "data": {
      "text/plain": [
       "array([-10.        ,  -8.94736842,  -7.89473684,  -6.84210526,\n",
       "        -5.78947368,  -4.73684211,  -3.68421053,  -2.63157895,\n",
       "        -1.57894737,  -0.52631579,   0.52631579,   1.57894737,\n",
       "         2.63157895,   3.68421053,   4.73684211,   5.78947368,\n",
       "         6.84210526,   7.89473684,   8.94736842,  10.        ])"
      ]
     },
     "execution_count": 19,
     "metadata": {},
     "output_type": "execute_result"
    }
   ],
   "source": [
    "x=np.linspace(-10,10,20)\n",
    "x"
   ]
  },
  {
   "cell_type": "code",
   "execution_count": 20,
   "id": "83d06eef-09f7-425e-a3a7-1d794f181678",
   "metadata": {},
   "outputs": [],
   "source": [
    "import matplotlib as mp"
   ]
  },
  {
   "cell_type": "code",
   "execution_count": 40,
   "id": "76fab3be-062d-442b-b313-c879d7bb5c0c",
   "metadata": {},
   "outputs": [
    {
     "name": "stdout",
     "output_type": "stream",
     "text": [
      "[ 0  1  2  3  4  5  6  7  8  9 10 11]\n"
     ]
    },
    {
     "data": {
      "text/plain": [
       "([<matplotlib.patches.Wedge at 0x25bbd2578d0>,\n",
       "  <matplotlib.patches.Wedge at 0x25bb7fdb6d0>,\n",
       "  <matplotlib.patches.Wedge at 0x25bbd24c950>,\n",
       "  <matplotlib.patches.Wedge at 0x25bbd24f390>,\n",
       "  <matplotlib.patches.Wedge at 0x25bbc62f650>,\n",
       "  <matplotlib.patches.Wedge at 0x25bbc600150>,\n",
       "  <matplotlib.patches.Wedge at 0x25bbc5ce310>,\n",
       "  <matplotlib.patches.Wedge at 0x25bbd23f850>,\n",
       "  <matplotlib.patches.Wedge at 0x25bbd23dc50>,\n",
       "  <matplotlib.patches.Wedge at 0x25bbd11fa90>,\n",
       "  <matplotlib.patches.Wedge at 0x25bbd20f090>,\n",
       "  <matplotlib.patches.Wedge at 0x25bbd2350d0>],\n",
       " [Text(1.1, 0.0, ''),\n",
       "  Text(1.0987540730270597, 0.05234010896479502, ''),\n",
       "  Text(1.0801215658077121, 0.20817637492543786, ''),\n",
       "  Text(1.0005951890558762, 0.4569565270769591, ''),\n",
       "  Text(0.796107424686281, 0.7590869306998885, ''),\n",
       "  Text(0.4088286650096605, 1.0212047408166587, ''),\n",
       "  Text(-0.15654637770487634, 1.0888035780743386, ''),\n",
       "  Text(-0.7590869679683662, 0.7961073891508563, ''),\n",
       "  Text(-1.095019124323497, 0.10456154821827246, ''),\n",
       "  Text(-0.8313244490178215, -0.7203469028636242, ''),\n",
       "  Text(0.052340263273965786, -1.098754065676397, ''),\n",
       "  Text(0.9526280385698485, -0.5499998364823061, '')])"
      ]
     },
     "execution_count": 40,
     "metadata": {},
     "output_type": "execute_result"
    },
    {
     "data": {
      "image/png": "[encoded data removed]",
      "text/plain": [
       "<Figure size 640x480 with 1 Axes>"
      ]
     },
     "metadata": {},
     "output_type": "display_data"
    }
   ],
   "source": [
    "k=np.arange(12)\n",
    "print(k)\n",
    "plt.pie(k)"
   ]
  },
  {
   "cell_type": "code",
   "execution_count": null,
   "id": "0e442b85-64b5-478b-b5b4-37cd47efcd5e",
   "metadata": {},
   "outputs": [],
   "source": []
  }
 ],
 "metadata": {
  "kernelspec": {
   "display_name": "Python 3 (ipykernel)",
   "language": "python",
   "name": "python3"
  },
  "language_info": {
   "codemirror_mode": {
    "name": "ipython",
    "version": 3
   },
   "file_extension": ".py",
   "mimetype": "text/x-python",
   "name": "python",
   "nbconvert_exporter": "python",
   "pygments_lexer": "ipython3",
   "version": "3.11.7"
  },
  "widgets": {
   "application/vnd.jupyter.widget-state+json": {
    "state": {},
    "version_major": 2,
    "version_minor": 0
   }
  }
 },
 "nbformat": 4,
 "nbformat_minor": 5
}
