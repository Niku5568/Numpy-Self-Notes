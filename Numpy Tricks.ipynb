{
 "cells": [
  {
   "cell_type": "markdown",
   "id": "80e8e7e5-e944-4c1b-9e7d-e6e81fb1404c",
   "metadata": {},
   "source": [
    "# **Numpy Tricks**"
   ]
  },
  {
   "cell_type": "raw",
   "id": "8388425b-f532-499b-bd4a-b11486bc1124",
   "metadata": {},
   "source": [
    "========================================================================================================================================================"
   ]
  },
  {
   "cell_type": "code",
   "execution_count": 2,
   "id": "1329a07c-0527-4f4d-a063-28e8757eeb05",
   "metadata": {},
   "outputs": [],
   "source": [
    "import numpy as np"
   ]
  },
  {
   "cell_type": "markdown",
   "id": "da9d29a3-37c8-4192-8974-2cec8aa9ca0f",
   "metadata": {},
   "source": [
    "# np.sort\n",
    "return sorted copy of a array"
   ]
  },
  {
   "cell_type": "code",
   "execution_count": 3,
   "id": "5bbc4cef-f18c-41aa-bd3d-1fdf1e701778",
   "metadata": {},
   "outputs": [
    {
     "name": "stdout",
     "output_type": "stream",
     "text": [
      "Random array:  [ 5 59 49  8 13  6 40 84 63 49 72 63 21  8 72]\n",
      "sorting by 0 - nth:  [ 5  6  8  8 13 21 40 49 49 59 63 63 72 72 84]\n",
      "reverse sorting:  [84 72 72 63 63 59 49 49 40 21 13  8  8  6  5]\n"
     ]
    }
   ],
   "source": [
    "a=np.random.randint(1,100,15)\n",
    "print(\"Random array: \",a)\n",
    "print(\"sorting by 0 - nth: \",np.sort(a))\n",
    "print(\"reverse sorting: \", np.sort(a)[::-1])"
   ]
  },
  {
   "cell_type": "code",
   "execution_count": 4,
   "id": "d375ad84-b8e1-46f5-b691-c4976b06d997",
   "metadata": {},
   "outputs": [
    {
     "name": "stdout",
     "output_type": "stream",
     "text": [
      "[[13 11 81 80]\n",
      " [45 10 64 26]\n",
      " [65 82 41 78]\n",
      " [85 10 87 31]\n",
      " [77  2 72 99]\n",
      " [22 50 19 78]]\n",
      "\n"
     ]
    },
    {
     "data": {
      "text/plain": [
       "array([[11, 13, 80, 81],\n",
       "       [10, 26, 45, 64],\n",
       "       [41, 65, 78, 82],\n",
       "       [10, 31, 85, 87],\n",
       "       [ 2, 72, 77, 99],\n",
       "       [19, 22, 50, 78]])"
      ]
     },
     "execution_count": 4,
     "metadata": {},
     "output_type": "execute_result"
    }
   ],
   "source": [
    "# sort by rows \n",
    "b=np.random.randint(1,100,24).reshape(6,4)\n",
    "print(b)\n",
    "print()\n",
    "np.sort(b)"
   ]
  },
  {
   "cell_type": "code",
   "execution_count": 5,
   "id": "6e05cfbf-4864-4bf4-9a9a-50510a83f2cb",
   "metadata": {},
   "outputs": [
    {
     "name": "stdout",
     "output_type": "stream",
     "text": [
      "[[13 11 81 80]\n",
      " [45 10 64 26]\n",
      " [65 82 41 78]\n",
      " [85 10 87 31]\n",
      " [77  2 72 99]\n",
      " [22 50 19 78]]\n",
      "\n"
     ]
    },
    {
     "data": {
      "text/plain": [
       "array([[13,  2, 19, 26],\n",
       "       [22, 10, 41, 31],\n",
       "       [45, 10, 64, 78],\n",
       "       [65, 11, 72, 78],\n",
       "       [77, 50, 81, 80],\n",
       "       [85, 82, 87, 99]])"
      ]
     },
     "execution_count": 5,
     "metadata": {},
     "output_type": "execute_result"
    }
   ],
   "source": [
    "# sort by columns\n",
    "print(b)\n",
    "print()\n",
    "np.sort(b,axis=0)"
   ]
  },
  {
   "cell_type": "code",
   "execution_count": 6,
   "id": "ee0521f5-4bec-4802-ab5d-b1037d26d688",
   "metadata": {},
   "outputs": [
    {
     "data": {
      "text/plain": [
       "array([[85, 82, 87, 99],\n",
       "       [77, 50, 81, 80],\n",
       "       [65, 11, 72, 78],\n",
       "       [45, 10, 64, 78],\n",
       "       [22, 10, 41, 31],\n",
       "       [13,  2, 19, 26]])"
      ]
     },
     "execution_count": 6,
     "metadata": {},
     "output_type": "execute_result"
    }
   ],
   "source": [
    "#reverse sorting\n",
    "np.sort(b,axis=0)[::-1]"
   ]
  },
  {
   "cell_type": "code",
   "execution_count": 7,
   "id": "512c3fca-0956-4862-bf1c-69a8b630d313",
   "metadata": {},
   "outputs": [
    {
     "data": {
      "text/plain": [
       "array([[19, 22, 50, 78],\n",
       "       [ 2, 72, 77, 99],\n",
       "       [10, 31, 85, 87],\n",
       "       [41, 65, 78, 82],\n",
       "       [10, 26, 45, 64],\n",
       "       [11, 13, 80, 81]])"
      ]
     },
     "execution_count": 7,
     "metadata": {},
     "output_type": "execute_result"
    }
   ],
   "source": [
    "np.sort(b)[::-1]"
   ]
  },
  {
   "cell_type": "markdown",
   "id": "16ba9dcc-feb1-430e-8541-0d2d2312aab5",
   "metadata": {},
   "source": [
    "# np.append()\n",
    "the numpy .append() appends values along the mentioned axis at the end of the array"
   ]
  },
  {
   "cell_type": "code",
   "execution_count": 8,
   "id": "e9bd3d2e-6977-4946-bbfd-2d9b75e64eff",
   "metadata": {},
   "outputs": [
    {
     "name": "stdout",
     "output_type": "stream",
     "text": [
      "[ 5 59 49  8 13  6 40 84 63 49 72 63 21  8 72]\n",
      "[  5  59  49   8  13   6  40  84  63  49  72  63  21   8  72 200]\n",
      "[  5  59  49   8  13   6  40  84  63  49  72  63  21   8  72 100  20  30\n",
      " 500  78  19]\n"
     ]
    }
   ],
   "source": [
    "# np.append(name of array, values append into last)\n",
    "print(a)\n",
    "print(np.append(a,200)) # append single values\n",
    "print(np.append(a,[100,20,30,500,78,19])) # append mulitple value at once"
   ]
  },
  {
   "cell_type": "code",
   "execution_count": 9,
   "id": "860eac8c-d32b-4fec-9996-38d5fcd68940",
   "metadata": {},
   "outputs": [
    {
     "name": "stdout",
     "output_type": "stream",
     "text": [
      "[[13 11 81 80]\n",
      " [45 10 64 26]\n",
      " [65 82 41 78]\n",
      " [85 10 87 31]\n",
      " [77  2 72 99]\n",
      " [22 50 19 78]]\n"
     ]
    },
    {
     "ename": "TypeError",
     "evalue": "append() missing 2 required positional arguments: 'arr' and 'values'",
     "output_type": "error",
     "traceback": [
      "\u001b[1;31m---------------------------------------------------------------------------\u001b[0m",
      "\u001b[1;31mTypeError\u001b[0m                                 Traceback (most recent call last)",
      "Cell \u001b[1;32mIn[9], line 4\u001b[0m\n\u001b[0;32m      1\u001b[0m \u001b[38;5;66;03m# append in 2D array \u001b[39;00m\n\u001b[0;32m      2\u001b[0m \u001b[38;5;66;03m# add 1 new columns in array\u001b[39;00m\n\u001b[0;32m      3\u001b[0m \u001b[38;5;28mprint\u001b[39m(b)\n\u001b[1;32m----> 4\u001b[0m np\u001b[38;5;241m.\u001b[39mappend()\n",
      "\u001b[1;31mTypeError\u001b[0m: append() missing 2 required positional arguments: 'arr' and 'values'"
     ]
    }
   ],
   "source": [
    "# append in 2D array \n",
    "# add 1 new columns in array\n",
    "print(b)\n",
    "np.append()"
   ]
  },
  {
   "cell_type": "code",
   "execution_count": 14,
   "id": "7a0c5c88-c391-48d4-9be1-a4cc7039dacb",
   "metadata": {},
   "outputs": [
    {
     "data": {
      "text/plain": [
       "array([[13., 11., 81., 80.,  1.],\n",
       "       [45., 10., 64., 26.,  1.],\n",
       "       [65., 82., 41., 78.,  1.],\n",
       "       [85., 10., 87., 31.,  1.],\n",
       "       [77.,  2., 72., 99.,  1.],\n",
       "       [22., 50., 19., 78.,  1.]])"
      ]
     },
     "execution_count": 14,
     "metadata": {},
     "output_type": "execute_result"
    }
   ],
   "source": [
    "#np.append(var(array name), np.ones(what you append)(var.shape(shape of item)[0th position to], 1th position),axis=1 )\n",
    "np.append(b, np.ones((b.shape[0],1)),axis=1)"
   ]
  },
  {
   "cell_type": "code",
   "execution_count": 11,
   "id": "6ed33af2-e7db-4ec1-9006-90dfa67a5567",
   "metadata": {},
   "outputs": [
    {
     "data": {
      "text/plain": [
       "array([[13.        , 11.        , 81.        , 80.        ,  0.82851685],\n",
       "       [45.        , 10.        , 64.        , 26.        ,  0.86200006],\n",
       "       [65.        , 82.        , 41.        , 78.        ,  0.99965292],\n",
       "       [85.        , 10.        , 87.        , 31.        ,  0.64519747],\n",
       "       [77.        ,  2.        , 72.        , 99.        ,  0.91939073],\n",
       "       [22.        , 50.        , 19.        , 78.        ,  0.11081366]])"
      ]
     },
     "execution_count": 11,
     "metadata": {},
     "output_type": "execute_result"
    }
   ],
   "source": [
    "# add random number\n",
    "np.append(b, np.random.random((b.shape[0],1)),axis=1)"
   ]
  },
  {
   "cell_type": "markdown",
   "id": "61283f1d-7064-487c-80b5-f62cc1eb3950",
   "metadata": {},
   "source": [
    "# np.concatenate\n",
    "numpy.concatenate() functions concatenate a sequance of arrays along an existing axis. "
   ]
  },
  {
   "cell_type": "code",
   "execution_count": 15,
   "id": "7b5a352c-be7d-48f0-a269-ab476725b395",
   "metadata": {},
   "outputs": [
    {
     "name": "stdout",
     "output_type": "stream",
     "text": [
      "[[0 1 2]\n",
      " [3 4 5]]\n",
      "[[ 6  7  8]\n",
      " [ 9 10 11]]\n"
     ]
    }
   ],
   "source": [
    "c=np.arange(6).reshape(2,3)\n",
    "d=np.arange(6,12).reshape(2,3)\n",
    "\n",
    "print(c)\n",
    "print(d)"
   ]
  },
  {
   "cell_type": "code",
   "execution_count": 16,
   "id": "0922d7ec-f96c-4127-ba1e-8d339fc2c736",
   "metadata": {},
   "outputs": [
    {
     "name": "stdout",
     "output_type": "stream",
     "text": [
      "[[ 0  1  2]\n",
      " [ 3  4  5]\n",
      " [ 6  7  8]\n",
      " [ 9 10 11]]\n",
      "\n",
      "[[ 0  1  2  6  7  8]\n",
      " [ 3  4  5  9 10 11]]\n"
     ]
    }
   ],
   "source": [
    "print(np.concatenate((c,d),axis=0)) # axis is not mandatory for row concatenation only required when you do concatenate array by columns by using axis=1\n",
    "print()\n",
    "print(np.concatenate((c,d),axis=1))"
   ]
  },
  {
   "cell_type": "markdown",
   "id": "1767f20e-9d19-4f8b-9e22-f703378bba5c",
   "metadata": {},
   "source": [
    "# np.unique\n",
    "with the help of np.unique() methods, we can get the unique value from an array given as perameter in np.unique() methods. "
   ]
  },
  {
   "cell_type": "code",
   "execution_count": null,
   "id": "349d121f-3a3b-44d9-934f-aec749cd932f",
   "metadata": {},
   "outputs": [],
   "source": [
    "e=[1,1,2,3,4,4,6,7,8,9,9]\n",
    "f=[[1,2,3,1],[1,2,3,2]]\n",
    "print(e)\n",
    "print(f)"
   ]
  },
  {
   "cell_type": "code",
   "execution_count": 134,
   "id": "00b90399-7676-41fa-8ccc-e7dc548d729e",
   "metadata": {},
   "outputs": [
    {
     "name": "stdout",
     "output_type": "stream",
     "text": [
      "[1 2 3 4 6 7 8 9]\n",
      "[1 2 3]\n"
     ]
    }
   ],
   "source": [
    "print(np.unique(e))\n",
    "print(np.unique(f))"
   ]
  },
  {
   "cell_type": "markdown",
   "id": "9ac8cde1-7ae4-4c7a-9215-1503b1d1c3bd",
   "metadata": {},
   "source": [
    "### np.expand_dims\n",
    "\n",
    "With the help of Numpy.expand_dims() method, we can get the expanded dimensions of an array      \n",
    "you can convert 1d array into 2d and 3d into 4d.\n"
   ]
  },
  {
   "cell_type": "code",
   "execution_count": 17,
   "id": "36a82ca0-371d-4c94-bca3-d287582f997a",
   "metadata": {},
   "outputs": [
    {
     "name": "stdout",
     "output_type": "stream",
     "text": [
      "[ 5 59 49  8 13  6 40 84 63 49 72 63 21  8 72]\n",
      "(1, 15)\n",
      "\n"
     ]
    },
    {
     "data": {
      "text/plain": [
       "array([ 5, 59, 49,  8, 13,  6, 40, 84, 63, 49, 72, 63, 21,  8, 72])"
      ]
     },
     "execution_count": 17,
     "metadata": {},
     "output_type": "execute_result"
    }
   ],
   "source": [
    "print(a)\n",
    "print(np.expand_dims(a,axis=0).shape)\n",
    "print()\n",
    "a"
   ]
  },
  {
   "cell_type": "code",
   "execution_count": 136,
   "id": "ec9c31d9-c0cf-405b-9457-b2053ad1bc63",
   "metadata": {},
   "outputs": [
    {
     "name": "stdout",
     "output_type": "stream",
     "text": [
      "(15, 1)\n"
     ]
    }
   ],
   "source": [
    "print(np.expand_dims(a,axis=1).shape)"
   ]
  },
  {
   "cell_type": "markdown",
   "id": "664efce9-322a-4f2a-b6f1-4943e5f24d5a",
   "metadata": {},
   "source": [
    "### np.where\n",
    "\n",
    "The numpy.where() function returns the indices of elements in an input array where the given condition is satisfied.   \n",
    "will give index position of the numbers according to the condition.\n",
    "\n",
    "you can also replace the value accoring to the condition or index number"
   ]
  },
  {
   "cell_type": "code",
   "execution_count": 137,
   "id": "75036ceb-ac51-4167-941e-b75d8244b864",
   "metadata": {},
   "outputs": [
    {
     "data": {
      "text/plain": [
       "array([44, 91, 67, 45, 30, 13, 28, 63, 84, 91, 27, 54,  7, 22, 37])"
      ]
     },
     "execution_count": 137,
     "metadata": {},
     "output_type": "execute_result"
    }
   ],
   "source": [
    "a=np.random.randint(1,100,15)\n",
    "a"
   ]
  },
  {
   "cell_type": "code",
   "execution_count": 138,
   "id": "bde7fcdf-14c2-4f2a-9e41-c2c99c565618",
   "metadata": {},
   "outputs": [
    {
     "data": {
      "text/plain": [
       "(array([ 0,  1,  2,  3,  4,  5,  6,  7,  8,  9, 10, 11, 12, 13, 14],\n",
       "       dtype=int64),)"
      ]
     },
     "execution_count": 138,
     "metadata": {},
     "output_type": "execute_result"
    }
   ],
   "source": [
    "np.where(a)"
   ]
  },
  {
   "cell_type": "code",
   "execution_count": 139,
   "id": "d50155e3-fabf-4495-ba77-d9236920daab",
   "metadata": {},
   "outputs": [
    {
     "name": "stdout",
     "output_type": "stream",
     "text": [
      "(array([ 1,  2,  7,  8,  9, 11], dtype=int64),)\n"
     ]
    }
   ],
   "source": [
    "# will give index number above the value greater than 50.\n",
    "print(np.where(a>50))"
   ]
  },
  {
   "cell_type": "code",
   "execution_count": 140,
   "id": "a0c19a50-d71f-43f3-88cf-089d4162c632",
   "metadata": {},
   "outputs": [
    {
     "name": "stdout",
     "output_type": "stream",
     "text": [
      "even number index number : (array([ 0,  4,  6,  8, 11, 13], dtype=int64),)\n"
     ]
    }
   ],
   "source": [
    "print(\"even number index number :\",np.where(a%2==0))"
   ]
  },
  {
   "cell_type": "markdown",
   "id": "c46188c7-3498-4a98-bac7-8858029561a6",
   "metadata": {},
   "source": [
    "># replace all values >50 with 0\n",
    "np.where(condition, ture, false)\n"
   ]
  },
  {
   "cell_type": "code",
   "execution_count": 141,
   "id": "64d64a94-c85b-484e-95d7-57844e121f05",
   "metadata": {},
   "outputs": [
    {
     "name": "stdout",
     "output_type": "stream",
     "text": [
      "[44  0  0 45 30 13 28  0  0  0 27  0  7 22 37]\n"
     ]
    }
   ],
   "source": [
    "print(np.where(a>50,0,a))"
   ]
  },
  {
   "cell_type": "code",
   "execution_count": 142,
   "id": "47118fc7-2955-42bf-a405-02eb3891ef38",
   "metadata": {},
   "outputs": [
    {
     "name": "stdout",
     "output_type": "stream",
     "text": [
      "[44  1  1 45 30 13 28  1  1  1 27  1  7 22 37]\n"
     ]
    }
   ],
   "source": [
    "print(np.where(a>50,1,a))"
   ]
  },
  {
   "cell_type": "markdown",
   "id": "2315cda7-46e3-4383-ab56-c8f3347c5803",
   "metadata": {},
   "source": [
    "# np.argmax and np.argmin\n",
    "\n",
    "The numpy.argmax() function returns indices of the max element of the array in a particular axis.    \n",
    " will give index postion of the max/larger number in the array"
   ]
  },
  {
   "cell_type": "code",
   "execution_count": 143,
   "id": "77f1c1bb-ec14-45c4-885e-394b968f7064",
   "metadata": {},
   "outputs": [
    {
     "data": {
      "text/plain": [
       "array([44, 91, 67, 45, 30, 13, 28, 63, 84, 91, 27, 54,  7, 22, 37])"
      ]
     },
     "execution_count": 143,
     "metadata": {},
     "output_type": "execute_result"
    }
   ],
   "source": [
    "a"
   ]
  },
  {
   "cell_type": "code",
   "execution_count": 144,
   "id": "ecbc84e2-e0fa-4204-b916-da1d4ed3d7bf",
   "metadata": {},
   "outputs": [
    {
     "data": {
      "text/plain": [
       "1"
      ]
     },
     "execution_count": 144,
     "metadata": {},
     "output_type": "execute_result"
    }
   ],
   "source": [
    "np.argmax(a)"
   ]
  },
  {
   "cell_type": "code",
   "execution_count": 145,
   "id": "46145f74-d80c-4325-a0a4-cc01160c934b",
   "metadata": {},
   "outputs": [
    {
     "name": "stdout",
     "output_type": "stream",
     "text": [
      "[[10 19 78 72]\n",
      " [85 40 90 12]\n",
      " [43 88 38 69]\n",
      " [84 85 88 82]\n",
      " [65 57 89 12]\n",
      " [99 40 63 17]]\n",
      "\n",
      "[5 2 1 3]\n",
      "\n",
      "[2 2 1 2 2 0]\n"
     ]
    }
   ],
   "source": [
    "print(b)\n",
    "print()\n",
    "print(np.argmax(b,axis=0))\n",
    "print()\n",
    "print(np.argmax(b,axis=1))"
   ]
  },
  {
   "cell_type": "code",
   "execution_count": 146,
   "id": "1f3c85b9-022d-4792-a9f3-b3b36193f80e",
   "metadata": {},
   "outputs": [
    {
     "data": {
      "text/plain": [
       "12"
      ]
     },
     "execution_count": 146,
     "metadata": {},
     "output_type": "execute_result"
    }
   ],
   "source": [
    "np.argmin(a)"
   ]
  },
  {
   "cell_type": "code",
   "execution_count": 147,
   "id": "0861177c-8fde-4285-9808-153bb26228af",
   "metadata": {},
   "outputs": [
    {
     "data": {
      "text/plain": [
       "0"
      ]
     },
     "execution_count": 147,
     "metadata": {},
     "output_type": "execute_result"
    }
   ],
   "source": [
    "np.argmin(b)"
   ]
  },
  {
   "cell_type": "code",
   "execution_count": 148,
   "id": "31632bb4-f4e5-4e74-a919-1ffa0a383f19",
   "metadata": {},
   "outputs": [
    {
     "name": "stdout",
     "output_type": "stream",
     "text": [
      "[[10 19 78 72]\n",
      " [85 40 90 12]\n",
      " [43 88 38 69]\n",
      " [84 85 88 82]\n",
      " [65 57 89 12]\n",
      " [99 40 63 17]]\n",
      "\n",
      "[0 0 2 1]\n",
      "\n",
      "[0 3 2 3 3 3]\n"
     ]
    }
   ],
   "source": [
    "print(b)\n",
    "print()\n",
    "print(np.argmin(b,axis=0))\n",
    "print()\n",
    "print(np.argmin(b,axis=1))"
   ]
  },
  {
   "cell_type": "markdown",
   "id": "bc166514-bcbc-4499-aeb6-77a5888500f3",
   "metadata": {},
   "source": [
    "# np.cumsum(cumulative sum)\n",
    "\n",
    "numpy.cumsum() function is used when we want to compute the cumulative sum of array elements over a given axis.\n"
   ]
  },
  {
   "cell_type": "code",
   "execution_count": 18,
   "id": "6e6a57dd-713e-4fc7-8efa-322150bdf0eb",
   "metadata": {},
   "outputs": [
    {
     "data": {
      "text/plain": [
       "array([65, 29, 60, 15, 10,  1, 96, 35, 75, 76, 75, 68, 29, 29, 15, 82, 94,\n",
       "       45,  5, 51])"
      ]
     },
     "execution_count": 18,
     "metadata": {},
     "output_type": "execute_result"
    }
   ],
   "source": [
    "a=np.random.randint(0,100,20)\n",
    "a"
   ]
  },
  {
   "cell_type": "code",
   "execution_count": 19,
   "id": "55e6c029-a8a0-4a1c-91fb-e9391ca69991",
   "metadata": {},
   "outputs": [
    {
     "data": {
      "text/plain": [
       "array([ 65,  94, 154, 169, 179, 180, 276, 311, 386, 462, 537, 605, 634,\n",
       "       663, 678, 760, 854, 899, 904, 955])"
      ]
     },
     "execution_count": 19,
     "metadata": {},
     "output_type": "execute_result"
    }
   ],
   "source": [
    "np.cumsum(a)"
   ]
  },
  {
   "cell_type": "code",
   "execution_count": 151,
   "id": "b6d8e1a6-b602-4041-a51d-859ab014324c",
   "metadata": {},
   "outputs": [
    {
     "data": {
      "text/plain": [
       "array([[10, 19, 78, 72],\n",
       "       [85, 40, 90, 12],\n",
       "       [43, 88, 38, 69],\n",
       "       [84, 85, 88, 82],\n",
       "       [65, 57, 89, 12],\n",
       "       [99, 40, 63, 17]])"
      ]
     },
     "execution_count": 151,
     "metadata": {},
     "output_type": "execute_result"
    }
   ],
   "source": [
    "b"
   ]
  },
  {
   "cell_type": "code",
   "execution_count": 152,
   "id": "82e6f769-92ee-485d-9b8b-d5a4e95a0a3d",
   "metadata": {},
   "outputs": [
    {
     "data": {
      "text/plain": [
       "array([  10,   29,  107,  179,  264,  304,  394,  406,  449,  537,  575,\n",
       "        644,  728,  813,  901,  983, 1048, 1105, 1194, 1206, 1305, 1345,\n",
       "       1408, 1425])"
      ]
     },
     "execution_count": 152,
     "metadata": {},
     "output_type": "execute_result"
    }
   ],
   "source": [
    "np.cumsum(b) # if didn't give axis value it will return 1D array"
   ]
  },
  {
   "cell_type": "code",
   "execution_count": 153,
   "id": "949a7cee-e485-467c-b3d6-0e42d376be53",
   "metadata": {},
   "outputs": [
    {
     "data": {
      "text/plain": [
       "array([[ 10,  19,  78,  72],\n",
       "       [ 95,  59, 168,  84],\n",
       "       [138, 147, 206, 153],\n",
       "       [222, 232, 294, 235],\n",
       "       [287, 289, 383, 247],\n",
       "       [386, 329, 446, 264]])"
      ]
     },
     "execution_count": 153,
     "metadata": {},
     "output_type": "execute_result"
    }
   ],
   "source": [
    "np.cumsum(b,axis=0) # row wise cumulative_sum"
   ]
  },
  {
   "cell_type": "code",
   "execution_count": 154,
   "id": "bb625055-25f0-4c5f-a65c-36e77cf33dfa",
   "metadata": {},
   "outputs": [
    {
     "data": {
      "text/plain": [
       "array([[ 10,  29, 107, 179],\n",
       "       [ 85, 125, 215, 227],\n",
       "       [ 43, 131, 169, 238],\n",
       "       [ 84, 169, 257, 339],\n",
       "       [ 65, 122, 211, 223],\n",
       "       [ 99, 139, 202, 219]])"
      ]
     },
     "execution_count": 154,
     "metadata": {},
     "output_type": "execute_result"
    }
   ],
   "source": [
    "np.cumsum(b,axis=1) # column wise cumulative_sum"
   ]
  },
  {
   "cell_type": "markdown",
   "id": "76b8d3b9-9298-4b32-b61c-047da3d53fe8",
   "metadata": {},
   "source": []
  },
  {
   "cell_type": "markdown",
   "id": "51f25873-9a98-44c3-87cb-6e205c6271b3",
   "metadata": {},
   "source": [
    "# np.cumprod() cumulative product-> multiply\n",
    "\n",
    "numpy.cumprod() function is used when we want to compute the cumulative multiply of array elements over a given axis.\n",
    "\n",
    "will multiply the sequance of the array"
   ]
  },
  {
   "cell_type": "code",
   "execution_count": 156,
   "id": "2c0b7537-2329-4c84-974e-4b27d8fbc3c6",
   "metadata": {},
   "outputs": [
    {
     "data": {
      "text/plain": [
       "array([         22,        1716,      137280,     8785920,   193290240,\n",
       "         966451200,   966451200,   537288704, -1051181056,   392708096,\n",
       "       -1521188864,    -2621440,   -39321600,  1070596096,  -138412032,\n",
       "           8388608,   545259520,  -687865856,  -369098752, -1375731712])"
      ]
     },
     "execution_count": 156,
     "metadata": {},
     "output_type": "execute_result"
    }
   ],
   "source": [
    "np.cumprod(a)"
   ]
  },
  {
   "cell_type": "code",
   "execution_count": 157,
   "id": "493fd1e6-d765-474b-b90c-5c5c5d1822a3",
   "metadata": {},
   "outputs": [
    {
     "data": {
      "text/plain": [
       "array([         10,         190,       14820,     1067040,    90698400,\n",
       "        -667031296,    96725504,  1160706048, -1629247488, -1639858176,\n",
       "        2109898752,  -445874176,  1201274880,  -970850304,   464519168,\n",
       "        -564133888,  1986002944,  1533018112, -1000341504,   880803840,\n",
       "        1300234240,   469762048,  -469762048,   603979776])"
      ]
     },
     "execution_count": 157,
     "metadata": {},
     "output_type": "execute_result"
    }
   ],
   "source": [
    "np.cumprod(b)"
   ]
  },
  {
   "cell_type": "code",
   "execution_count": 158,
   "id": "71fd5542-3c36-480d-b99d-ec895ae4a599",
   "metadata": {},
   "outputs": [
    {
     "data": {
      "text/plain": [
       "array([[         10,          19,          78,          72],\n",
       "       [        850,         760,        7020,         864],\n",
       "       [      36550,       66880,      266760,       59616],\n",
       "       [    3070200,     5684800,    23474880,     4888512],\n",
       "       [  199563000,   324033600,  2089264320,    58662144],\n",
       "       [-1718099480,    76442112, -1520334016,   997256448]])"
      ]
     },
     "execution_count": 158,
     "metadata": {},
     "output_type": "execute_result"
    }
   ],
   "source": [
    "np.cumprod(b,axis=0) # multiply row wise"
   ]
  },
  {
   "cell_type": "code",
   "execution_count": 160,
   "id": "7e4be2ad-605d-4ab4-b925-fe0f33cb3f80",
   "metadata": {},
   "outputs": [
    {
     "data": {
      "text/plain": [
       "array([[      10,      190,    14820,  1067040],\n",
       "       [      85,     3400,   306000,  3672000],\n",
       "       [      43,     3784,   143792,  9921648],\n",
       "       [      84,     7140,   628320, 51522240],\n",
       "       [      65,     3705,   329745,  3956940],\n",
       "       [      99,     3960,   249480,  4241160]])"
      ]
     },
     "execution_count": 160,
     "metadata": {},
     "output_type": "execute_result"
    }
   ],
   "source": [
    "np.cumprod(b,axis=1) # multiply column wise"
   ]
  },
  {
   "cell_type": "code",
   "execution_count": null,
   "id": "51de135b-16a6-45ac-8e41-f83fc5309eac",
   "metadata": {},
   "outputs": [],
   "source": []
  },
  {
   "cell_type": "markdown",
   "id": "7f27f626-b8bf-42b8-b7c1-8c62f4074224",
   "metadata": {},
   "source": [
    "# np.percentile\n",
    "\n",
    "numpy.percentile()function used to compute the nth percentile of the given data (array elements) along the specified axis.\n",
    "\n",
    "will return percentile of max number"
   ]
  },
  {
   "cell_type": "code",
   "execution_count": 161,
   "id": "6c1e607d-2d95-4a0f-9b80-8928b84fa38e",
   "metadata": {},
   "outputs": [
    {
     "data": {
      "text/plain": [
       "array([22, 78, 80, 64, 22,  5,  1,  5, 54, 65, 18, 48, 15, 82, 44, 62, 65,\n",
       "       46, 38, 27])"
      ]
     },
     "execution_count": 161,
     "metadata": {},
     "output_type": "execute_result"
    }
   ],
   "source": [
    "a"
   ]
  },
  {
   "cell_type": "code",
   "execution_count": 164,
   "id": "bb2f6a3e-1856-491a-ac17-0288dd903dd0",
   "metadata": {},
   "outputs": [
    {
     "data": {
      "text/plain": [
       "82.0"
      ]
     },
     "execution_count": 164,
     "metadata": {},
     "output_type": "execute_result"
    }
   ],
   "source": [
    "np.percentile(a,100)"
   ]
  },
  {
   "cell_type": "code",
   "execution_count": 167,
   "id": "488c6d16-23b4-4526-be39-38f12ebe06c1",
   "metadata": {},
   "outputs": [
    {
     "data": {
      "text/plain": [
       "45.0"
      ]
     },
     "execution_count": 167,
     "metadata": {},
     "output_type": "execute_result"
    }
   ],
   "source": [
    "np.percentile(a,50)"
   ]
  },
  {
   "cell_type": "code",
   "execution_count": 166,
   "id": "64fe5354-92c7-4b87-82d3-d552579b61e9",
   "metadata": {},
   "outputs": [
    {
     "data": {
      "text/plain": [
       "45.0"
      ]
     },
     "execution_count": 166,
     "metadata": {},
     "output_type": "execute_result"
    }
   ],
   "source": [
    "# average of array or 50th percentile \n",
    "np.median(a)"
   ]
  },
  {
   "cell_type": "markdown",
   "id": "d1abd48d-6ffc-490a-97b0-6680569f056b",
   "metadata": {},
   "source": [
    "# np.histogram\n",
    "\n",
    "Numpy has a built-in numpy.histogram() function which represents the frequency of data distribution in the graphical form.\n",
    "\n",
    "histogram = will count the numbers under the frequency and give the histogram number for plot, bar, pie chart etc.\n",
    "\n",
    "syntax:     \n",
    "np.histogram(array name, bins=[frequency range])\n"
   ]
  },
  {
   "cell_type": "code",
   "execution_count": 173,
   "id": "0bf42e90-d93b-4d14-95c6-dbbb6a3be850",
   "metadata": {},
   "outputs": [
    {
     "data": {
      "text/plain": [
       "array([22, 78, 80, 64, 22,  5,  1,  5, 54, 65, 18, 48, 15, 82, 44, 62, 65,\n",
       "       46, 38, 27])"
      ]
     },
     "execution_count": 173,
     "metadata": {},
     "output_type": "execute_result"
    }
   ],
   "source": [
    "a"
   ]
  },
  {
   "cell_type": "code",
   "execution_count": 174,
   "id": "2b6eb4ab-449c-4dd3-b9d1-236e44689d1f",
   "metadata": {},
   "outputs": [
    {
     "data": {
      "text/plain": [
       "(array([2, 3, 1, 3, 1, 4, 1, 2, 0], dtype=int64),\n",
       " array([ 10,  20,  30,  40,  50,  60,  70,  80,  90, 100]))"
      ]
     },
     "execution_count": 174,
     "metadata": {},
     "output_type": "execute_result"
    }
   ],
   "source": [
    "np.histogram(a,bins=[10,20,30,40,50,60,70,80,90,100])\n"
   ]
  },
  {
   "cell_type": "code",
   "execution_count": null,
   "id": "33c26262-329b-4cff-9215-05b7514b9d24",
   "metadata": {},
   "outputs": [],
   "source": []
  },
  {
   "cell_type": "markdown",
   "id": "566bec2d-326c-4d93-8177-2a805d30dc3c",
   "metadata": {},
   "source": [
    "# np.corrcoef\n",
    "\n",
    "Return Pearson product-moment correlation coefficients."
   ]
  },
  {
   "cell_type": "code",
   "execution_count": 175,
   "id": "a23d0836-f983-4356-853b-c26484e1692f",
   "metadata": {},
   "outputs": [
    {
     "data": {
      "text/plain": [
       "array([[1.        , 0.25344572],\n",
       "       [0.25344572, 1.        ]])"
      ]
     },
     "execution_count": 175,
     "metadata": {},
     "output_type": "execute_result"
    }
   ],
   "source": [
    "salary = np.array([20000,40000,25000,35000,60000])\n",
    "experience = np.array([1,3,2,4,2])\n",
    "\n",
    "np.corrcoef(salary,experience)"
   ]
  },
  {
   "cell_type": "code",
   "execution_count": null,
   "id": "7901f020-e4c7-4080-a448-d94d93fef635",
   "metadata": {},
   "outputs": [],
   "source": []
  },
  {
   "cell_type": "markdown",
   "id": "77eadc40-e7b0-4ab3-ae01-aeda3397d35b",
   "metadata": {},
   "source": [
    "# np.isin\n",
    "\n",
    "With the help of numpy.isin() method,     \n",
    "we can see that one array having values are checked in a different numpy array having different elements with different sizes.\n",
    "\n",
    "used to search multiple items at once in the array and return the value in the boolean.   \n",
    "\n",
    "if added the value into the a[] than it will return the duplicate /finding number."
   ]
  },
  {
   "cell_type": "code",
   "execution_count": 176,
   "id": "2520fbc1-3d41-41ad-b363-c4c1abbc81af",
   "metadata": {},
   "outputs": [
    {
     "data": {
      "text/plain": [
       "array([22, 78, 80, 64, 22,  5,  1,  5, 54, 65, 18, 48, 15, 82, 44, 62, 65,\n",
       "       46, 38, 27])"
      ]
     },
     "execution_count": 176,
     "metadata": {},
     "output_type": "execute_result"
    }
   ],
   "source": [
    "a"
   ]
  },
  {
   "cell_type": "code",
   "execution_count": 186,
   "id": "6508bd4f-4945-4a2b-b712-fb8e7c74bce5",
   "metadata": {},
   "outputs": [
    {
     "data": {
      "text/plain": [
       "array([False, False, False,  True, False, False, False, False, False,\n",
       "       False, False, False, False,  True, False, False, False, False,\n",
       "       False, False])"
      ]
     },
     "execution_count": 186,
     "metadata": {},
     "output_type": "execute_result"
    }
   ],
   "source": [
    "np.isin(a,[64,16,82])"
   ]
  },
  {
   "cell_type": "code",
   "execution_count": 187,
   "id": "d2d8fd64-2c14-4063-9634-4c63c42205fa",
   "metadata": {},
   "outputs": [
    {
     "data": {
      "text/plain": [
       "array([64, 82])"
      ]
     },
     "execution_count": 187,
     "metadata": {},
     "output_type": "execute_result"
    }
   ],
   "source": [
    "a[np.isin(a,[64,16,82])]"
   ]
  },
  {
   "cell_type": "code",
   "execution_count": 194,
   "id": "d98e1615-8b88-4427-b13a-7b611d661d6e",
   "metadata": {},
   "outputs": [
    {
     "name": "stdout",
     "output_type": "stream",
     "text": [
      "[22 78 80 64 22  5  1  5 54 65 18 48 15 82 44 62 65 46 38 27]\n",
      "[5, 10, 15, 20, 25, 30, 65, 55, 75, 85, 95]\n"
     ]
    }
   ],
   "source": [
    "print(a)\n",
    "l=[5,10,15,20,25,30,65,55,75,85,95]\n",
    "print(l)"
   ]
  },
  {
   "cell_type": "code",
   "execution_count": 190,
   "id": "28e82cf4-4d83-4a2a-9a3f-433bc17f41a0",
   "metadata": {},
   "outputs": [
    {
     "data": {
      "text/plain": [
       "array([ 5,  5, 65, 15, 65])"
      ]
     },
     "execution_count": 190,
     "metadata": {},
     "output_type": "execute_result"
    }
   ],
   "source": [
    "a[np.isin(a,l)]"
   ]
  },
  {
   "cell_type": "markdown",
   "id": "3fc71d5f-0359-4493-b8f5-3f9651386440",
   "metadata": {},
   "source": [
    "# np.flip()\n",
    "\n",
    "The numpy.flip() function reverses the order of array elements along the specified axis, preserving the shape of the array.\n",
    "\n",
    "reverse the array or show mirror image of the array \n",
    "it can flip 2d array row & cloumns"
   ]
  },
  {
   "cell_type": "code",
   "execution_count": 196,
   "id": "e9509776-e241-4fdf-8aa9-575fd95c520b",
   "metadata": {},
   "outputs": [
    {
     "name": "stdout",
     "output_type": "stream",
     "text": [
      "[22 78 80 64 22  5  1  5 54 65 18 48 15 82 44 62 65 46 38 27]\n",
      "\n",
      "[27 38 46 65 62 44 82 15 48 18 65 54  5  1  5 22 64 80 78 22]\n"
     ]
    }
   ],
   "source": [
    "print(a)\n",
    "print()\n",
    "print(np.flip(a))"
   ]
  },
  {
   "cell_type": "code",
   "execution_count": 198,
   "id": "27ff66a1-e926-47a4-ae93-a2a68d20a3e5",
   "metadata": {},
   "outputs": [
    {
     "name": "stdout",
     "output_type": "stream",
     "text": [
      "[[17 63 40 99]\n",
      " [12 89 57 65]\n",
      " [82 88 85 84]\n",
      " [69 38 88 43]\n",
      " [12 90 40 85]\n",
      " [72 78 19 10]]\n"
     ]
    }
   ],
   "source": [
    "print(np.flip(b)) # flip row & columns "
   ]
  },
  {
   "cell_type": "code",
   "execution_count": 204,
   "id": "8580404c-ff54-451b-b379-107e75f7e723",
   "metadata": {},
   "outputs": [
    {
     "name": "stdout",
     "output_type": "stream",
     "text": [
      "[[10 19 78 72]\n",
      " [85 40 90 12]\n",
      " [43 88 38 69]\n",
      " [84 85 88 82]\n",
      " [65 57 89 12]\n",
      " [99 40 63 17]]\n",
      "\n",
      "[[99 40 63 17]\n",
      " [65 57 89 12]\n",
      " [84 85 88 82]\n",
      " [43 88 38 69]\n",
      " [85 40 90 12]\n",
      " [10 19 78 72]]\n"
     ]
    }
   ],
   "source": [
    "print(b)\n",
    "print()\n",
    "print(np.flip(b,axis=0)) # flip only rows"
   ]
  },
  {
   "cell_type": "code",
   "execution_count": 203,
   "id": "982b7c06-90a5-4528-8008-3e35ec22f33c",
   "metadata": {},
   "outputs": [
    {
     "name": "stdout",
     "output_type": "stream",
     "text": [
      "[[10 19 78 72]\n",
      " [85 40 90 12]\n",
      " [43 88 38 69]\n",
      " [84 85 88 82]\n",
      " [65 57 89 12]\n",
      " [99 40 63 17]]\n",
      "\n",
      "[[72 78 19 10]\n",
      " [12 90 40 85]\n",
      " [69 38 88 43]\n",
      " [82 88 85 84]\n",
      " [12 89 57 65]\n",
      " [17 63 40 99]]\n"
     ]
    }
   ],
   "source": [
    "print(b)\n",
    "print()\n",
    "print(np.flip(b,axis=1)) # flip only columns"
   ]
  },
  {
   "cell_type": "markdown",
   "id": "b2283123-5d26-4ab7-8237-0bc0a9802356",
   "metadata": {},
   "source": [
    "# np.put\n",
    "\n",
    "The numpy.put() function replaces specific elements of an array with given values of p_array. Array indexed works on flattened array.\n",
    "\n",
    "NOTE: it will permanent change in the orginal array\n",
    "syntax:\n",
    "\n",
    "np.put(array name, [index numbers, 2nd ind number], [new value, 2nd new value])"
   ]
  },
  {
   "cell_type": "code",
   "execution_count": 20,
   "id": "b3646252-46bd-4528-ba72-a03e99d1f789",
   "metadata": {},
   "outputs": [
    {
     "data": {
      "text/plain": [
       "array([65, 29, 60, 15, 10,  1, 96, 35, 75, 76, 75, 68, 29, 29, 15, 82, 94,\n",
       "       45,  5, 51])"
      ]
     },
     "execution_count": 20,
     "metadata": {},
     "output_type": "execute_result"
    }
   ],
   "source": [
    "a"
   ]
  },
  {
   "cell_type": "code",
   "execution_count": 21,
   "id": "f9f9ce1f-bb8b-4751-9eba-97191b6dd801",
   "metadata": {},
   "outputs": [],
   "source": [
    "np.put(a,[5,6],[50,110])"
   ]
  },
  {
   "cell_type": "code",
   "execution_count": 209,
   "id": "ff3062b5-cd1a-4f7f-91e5-8fb2d65e1b73",
   "metadata": {},
   "outputs": [
    {
     "data": {
      "text/plain": [
       "array([ 22,  78,  80,  64,  22,  50, 110,   5,  54,  65,  18,  48,  15,\n",
       "        82,  44,  62,  65,  46,  38,  27])"
      ]
     },
     "execution_count": 209,
     "metadata": {},
     "output_type": "execute_result"
    }
   ],
   "source": [
    "a"
   ]
  },
  {
   "cell_type": "code",
   "execution_count": null,
   "id": "888eaf32-8d52-446f-a68d-a37d5b316ae4",
   "metadata": {},
   "outputs": [],
   "source": []
  },
  {
   "cell_type": "markdown",
   "id": "58410526-30ba-4e6f-b196-ed625dae2f00",
   "metadata": {},
   "source": [
    "# np.delete\n",
    "\n",
    "The numpy.delete() function returns a new array with the deletion of sub-arrays along with the mentioned axis.\n",
    "\n",
    "delete single or multiple numbers on the basis of the index number of the values."
   ]
  },
  {
   "cell_type": "code",
   "execution_count": 210,
   "id": "2973af29-d6df-4513-9efe-2547a7fa04ba",
   "metadata": {},
   "outputs": [
    {
     "data": {
      "text/plain": [
       "array([ 22,  78,  80,  64,  22,  50, 110,   5,  54,  65,  18,  48,  15,\n",
       "        82,  44,  62,  65,  46,  38,  27])"
      ]
     },
     "execution_count": 210,
     "metadata": {},
     "output_type": "execute_result"
    }
   ],
   "source": [
    "a"
   ]
  },
  {
   "cell_type": "code",
   "execution_count": 212,
   "id": "b4a8e6de-549b-409c-bd77-dac166aa739d",
   "metadata": {},
   "outputs": [
    {
     "data": {
      "text/plain": [
       "array([ 78,  80,  64,  22,  50, 110,   5,  54,  65,  18,  48,  15,  82,\n",
       "        44,  62,  65,  46,  38,  27])"
      ]
     },
     "execution_count": 212,
     "metadata": {},
     "output_type": "execute_result"
    }
   ],
   "source": [
    "np.delete(a,0)"
   ]
  },
  {
   "cell_type": "code",
   "execution_count": 218,
   "id": "6ca7bf52-1e68-401e-8ad8-5607ecae0444",
   "metadata": {},
   "outputs": [
    {
     "data": {
      "text/plain": [
       "array([78, 80, 64, 22, 54, 18, 48, 15, 44, 62, 65, 46, 27])"
      ]
     },
     "execution_count": 218,
     "metadata": {},
     "output_type": "execute_result"
    }
   ],
   "source": [
    "np.delete(a,[0,5,7,9,13,6,18])"
   ]
  },
  {
   "cell_type": "markdown",
   "id": "edde023b-50e9-4c03-9dbe-e05af96c7244",
   "metadata": {},
   "source": [
    "### Set functions\n",
    "\n",
    "- np.union1d\n",
    "- np.intersect1d\n",
    "- np.setdiff1d\n",
    "- np.setxor1d\n",
    "- np.in1d"
   ]
  },
  {
   "cell_type": "code",
   "execution_count": 219,
   "id": "9c87bc91-c097-4c3f-8c72-5d64ebce98b2",
   "metadata": {},
   "outputs": [
    {
     "data": {
      "text/plain": [
       "array([1, 2, 3, 4, 5, 6, 7])"
      ]
     },
     "execution_count": 219,
     "metadata": {},
     "output_type": "execute_result"
    }
   ],
   "source": [
    "m = np.array([1,2,3,4,5])\n",
    "n = np.array([3,4,5,6,7])\n",
    "\n",
    "np.union1d(m,n)"
   ]
  },
  {
   "cell_type": "code",
   "execution_count": 220,
   "id": "357bd205-150d-41e7-9973-572ca639c802",
   "metadata": {},
   "outputs": [
    {
     "data": {
      "text/plain": [
       "array([3, 4, 5])"
      ]
     },
     "execution_count": 220,
     "metadata": {},
     "output_type": "execute_result"
    }
   ],
   "source": [
    "np.intersect1d(m,n)"
   ]
  },
  {
   "cell_type": "code",
   "execution_count": 221,
   "id": "d05ff34f-7bd5-42f9-a890-ed913fec94c9",
   "metadata": {},
   "outputs": [
    {
     "data": {
      "text/plain": [
       "array([6, 7])"
      ]
     },
     "execution_count": 221,
     "metadata": {},
     "output_type": "execute_result"
    }
   ],
   "source": [
    "np.setdiff1d(n,m)"
   ]
  },
  {
   "cell_type": "code",
   "execution_count": 222,
   "id": "06db83a0-fe3e-4fe8-af64-b310108fc71e",
   "metadata": {},
   "outputs": [
    {
     "data": {
      "text/plain": [
       "array([1, 2, 6, 7])"
      ]
     },
     "execution_count": 222,
     "metadata": {},
     "output_type": "execute_result"
    }
   ],
   "source": [
    "np.setxor1d(m,n)"
   ]
  },
  {
   "cell_type": "code",
   "execution_count": 223,
   "id": "08fec282-eb2d-42e8-aefe-41735330540f",
   "metadata": {},
   "outputs": [
    {
     "data": {
      "text/plain": [
       "array([1])"
      ]
     },
     "execution_count": 223,
     "metadata": {},
     "output_type": "execute_result"
    }
   ],
   "source": [
    "m[np.in1d(m,1)]"
   ]
  },
  {
   "cell_type": "markdown",
   "id": "33511527-53e9-4dfa-ac3a-6dccfe44d579",
   "metadata": {},
   "source": [
    "# np.clip\n",
    "\n",
    "numpy.clip() function is used to Clip (limit) the values in an array.\n",
    "\n",
    "make boundries of the value in the given range and     \n",
    "replace the value with the min & max value if array value exceed the given range"
   ]
  },
  {
   "cell_type": "code",
   "execution_count": 224,
   "id": "ddfe258e-e39b-486d-a031-f9f87ad47e12",
   "metadata": {},
   "outputs": [
    {
     "data": {
      "text/plain": [
       "array([ 22,  78,  80,  64,  22,  50, 110,   5,  54,  65,  18,  48,  15,\n",
       "        82,  44,  62,  65,  46,  38,  27])"
      ]
     },
     "execution_count": 224,
     "metadata": {},
     "output_type": "execute_result"
    }
   ],
   "source": [
    "a"
   ]
  },
  {
   "cell_type": "code",
   "execution_count": 227,
   "id": "02f6cc46-1151-4543-9224-5bd5b8db7beb",
   "metadata": {},
   "outputs": [
    {
     "data": {
      "text/plain": [
       "array([25, 75, 75, 64, 25, 50, 75, 25, 54, 65, 25, 48, 25, 75, 44, 62, 65,\n",
       "       46, 38, 27])"
      ]
     },
     "execution_count": 227,
     "metadata": {},
     "output_type": "execute_result"
    }
   ],
   "source": [
    "np.clip(a,a_min=25, a_max=75)"
   ]
  },
  {
   "cell_type": "code",
   "execution_count": null,
   "id": "01ac3a01-3b3a-4720-99be-9092ef8d79ac",
   "metadata": {},
   "outputs": [],
   "source": []
  },
  {
   "cell_type": "code",
   "execution_count": null,
   "id": "1886dfc2-45b1-4859-967b-53b5685b3aea",
   "metadata": {},
   "outputs": [],
   "source": []
  },
  {
   "cell_type": "code",
   "execution_count": null,
   "id": "01a6791c-f45b-4855-95ee-112c2bfaa731",
   "metadata": {},
   "outputs": [],
   "source": []
  }
 ],
 "metadata": {
  "kernelspec": {
   "display_name": "Python 3 (ipykernel)",
   "language": "python",
   "name": "python3"
  },
  "language_info": {
   "codemirror_mode": {
    "name": "ipython",
    "version": 3
   },
   "file_extension": ".py",
   "mimetype": "text/x-python",
   "name": "python",
   "nbconvert_exporter": "python",
   "pygments_lexer": "ipython3",
   "version": "3.11.7"
  },
  "widgets": {
   "application/vnd.jupyter.widget-state+json": {
    "state": {},
    "version_major": 2,
    "version_minor": 0
   }
  }
 },
 "nbformat": 4,
 "nbformat_minor": 5
}
